{
 "cells": [
  {
   "cell_type": "code",
   "execution_count": 1,
   "metadata": {},
   "outputs": [],
   "source": [
    "import os\n",
    "import json\n",
    "import pandas as pd\n",
    "import numpy as np\n",
    "from Credit_Default.entity import *\n",
    "from Credit_Default.constants import *\n",
    "from Credit_Default.utils import *"
   ]
  },
  {
   "cell_type": "code",
   "execution_count": 2,
   "metadata": {},
   "outputs": [],
   "source": [
    "from collections import namedtuple\n",
    "import os\n",
    "from sklearn.model_selection import StratifiedShuffleSplit\n",
    "os.chdir(\"../\")"
   ]
  },
  {
   "cell_type": "code",
   "execution_count": 3,
   "metadata": {},
   "outputs": [
    {
     "data": {
      "text/plain": [
       "'d:\\\\projects\\\\credit_default_ml_project'"
      ]
     },
     "execution_count": 3,
     "metadata": {},
     "output_type": "execute_result"
    }
   ],
   "source": [
    "pwd"
   ]
  },
  {
   "cell_type": "code",
   "execution_count": 4,
   "metadata": {},
   "outputs": [],
   "source": [
    "train_df=pd.read_csv(TRAIN_FILE_PATH)\n",
    "test_df=pd.read_csv(TEST_FILE_PATH)"
   ]
  },
  {
   "cell_type": "code",
   "execution_count": 5,
   "metadata": {},
   "outputs": [
    {
     "data": {
      "text/plain": [
       "Index(['ID', 'LIMIT_BAL', 'SEX', 'EDUCATION', 'MARRIAGE', 'AGE', 'PAY_0',\n",
       "       'PAY_2', 'PAY_3', 'PAY_4', 'PAY_5', 'PAY_6', 'BILL_AMT1', 'BILL_AMT2',\n",
       "       'BILL_AMT3', 'BILL_AMT4', 'BILL_AMT5', 'BILL_AMT6', 'PAY_AMT1',\n",
       "       'PAY_AMT2', 'PAY_AMT3', 'PAY_AMT4', 'PAY_AMT5', 'PAY_AMT6',\n",
       "       'default.payment.next.month'],\n",
       "      dtype='object')"
      ]
     },
     "execution_count": 5,
     "metadata": {},
     "output_type": "execute_result"
    }
   ],
   "source": [
    "train_df.columns"
   ]
  },
  {
   "cell_type": "code",
   "execution_count": null,
   "metadata": {},
   "outputs": [],
   "source": []
  },
  {
   "cell_type": "code",
   "execution_count": 6,
   "metadata": {},
   "outputs": [
    {
     "name": "stdout",
     "output_type": "stream",
     "text": [
      "<class 'pandas.core.frame.DataFrame'>\n",
      "RangeIndex: 24000 entries, 0 to 23999\n",
      "Data columns (total 25 columns):\n",
      " #   Column                      Non-Null Count  Dtype  \n",
      "---  ------                      --------------  -----  \n",
      " 0   ID                          24000 non-null  int64  \n",
      " 1   LIMIT_BAL                   24000 non-null  float64\n",
      " 2   SEX                         24000 non-null  int64  \n",
      " 3   EDUCATION                   24000 non-null  int64  \n",
      " 4   MARRIAGE                    24000 non-null  int64  \n",
      " 5   AGE                         24000 non-null  int64  \n",
      " 6   PAY_0                       24000 non-null  int64  \n",
      " 7   PAY_2                       24000 non-null  int64  \n",
      " 8   PAY_3                       24000 non-null  int64  \n",
      " 9   PAY_4                       24000 non-null  int64  \n",
      " 10  PAY_5                       24000 non-null  int64  \n",
      " 11  PAY_6                       24000 non-null  int64  \n",
      " 12  BILL_AMT1                   24000 non-null  float64\n",
      " 13  BILL_AMT2                   24000 non-null  float64\n",
      " 14  BILL_AMT3                   24000 non-null  float64\n",
      " 15  BILL_AMT4                   24000 non-null  float64\n",
      " 16  BILL_AMT5                   24000 non-null  float64\n",
      " 17  BILL_AMT6                   24000 non-null  float64\n",
      " 18  PAY_AMT1                    24000 non-null  float64\n",
      " 19  PAY_AMT2                    24000 non-null  float64\n",
      " 20  PAY_AMT3                    24000 non-null  float64\n",
      " 21  PAY_AMT4                    24000 non-null  float64\n",
      " 22  PAY_AMT5                    24000 non-null  float64\n",
      " 23  PAY_AMT6                    24000 non-null  float64\n",
      " 24  default.payment.next.month  24000 non-null  int64  \n",
      "dtypes: float64(13), int64(12)\n",
      "memory usage: 4.6 MB\n"
     ]
    }
   ],
   "source": [
    "train_df.info()"
   ]
  },
  {
   "cell_type": "code",
   "execution_count": 7,
   "metadata": {},
   "outputs": [
    {
     "name": "stdout",
     "output_type": "stream",
     "text": [
      "<class 'pandas.core.frame.DataFrame'>\n",
      "RangeIndex: 6000 entries, 0 to 5999\n",
      "Data columns (total 25 columns):\n",
      " #   Column                      Non-Null Count  Dtype  \n",
      "---  ------                      --------------  -----  \n",
      " 0   ID                          6000 non-null   int64  \n",
      " 1   LIMIT_BAL                   6000 non-null   float64\n",
      " 2   SEX                         6000 non-null   int64  \n",
      " 3   EDUCATION                   6000 non-null   int64  \n",
      " 4   MARRIAGE                    6000 non-null   int64  \n",
      " 5   AGE                         6000 non-null   int64  \n",
      " 6   PAY_0                       6000 non-null   int64  \n",
      " 7   PAY_2                       6000 non-null   int64  \n",
      " 8   PAY_3                       6000 non-null   int64  \n",
      " 9   PAY_4                       6000 non-null   int64  \n",
      " 10  PAY_5                       6000 non-null   int64  \n",
      " 11  PAY_6                       6000 non-null   int64  \n",
      " 12  BILL_AMT1                   6000 non-null   float64\n",
      " 13  BILL_AMT2                   6000 non-null   float64\n",
      " 14  BILL_AMT3                   6000 non-null   float64\n",
      " 15  BILL_AMT4                   6000 non-null   float64\n",
      " 16  BILL_AMT5                   6000 non-null   float64\n",
      " 17  BILL_AMT6                   6000 non-null   float64\n",
      " 18  PAY_AMT1                    6000 non-null   float64\n",
      " 19  PAY_AMT2                    6000 non-null   float64\n",
      " 20  PAY_AMT3                    6000 non-null   float64\n",
      " 21  PAY_AMT4                    6000 non-null   float64\n",
      " 22  PAY_AMT5                    6000 non-null   float64\n",
      " 23  PAY_AMT6                    6000 non-null   float64\n",
      " 24  default.payment.next.month  6000 non-null   int64  \n",
      "dtypes: float64(13), int64(12)\n",
      "memory usage: 1.1 MB\n"
     ]
    }
   ],
   "source": [
    "test_df.info()"
   ]
  },
  {
   "cell_type": "code",
   "execution_count": null,
   "metadata": {},
   "outputs": [],
   "source": []
  },
  {
   "cell_type": "code",
   "execution_count": 55,
   "metadata": {},
   "outputs": [
    {
     "data": {
      "text/plain": [
       "0"
      ]
     },
     "execution_count": 55,
     "metadata": {},
     "output_type": "execute_result"
    }
   ],
   "source": [
    "train_df.isnull().sum().sum()"
   ]
  },
  {
   "cell_type": "code",
   "execution_count": 9,
   "metadata": {},
   "outputs": [
    {
     "data": {
      "text/plain": [
       "ID                            0\n",
       "LIMIT_BAL                     0\n",
       "SEX                           0\n",
       "EDUCATION                     0\n",
       "MARRIAGE                      0\n",
       "AGE                           0\n",
       "PAY_0                         0\n",
       "PAY_2                         0\n",
       "PAY_3                         0\n",
       "PAY_4                         0\n",
       "PAY_5                         0\n",
       "PAY_6                         0\n",
       "BILL_AMT1                     0\n",
       "BILL_AMT2                     0\n",
       "BILL_AMT3                     0\n",
       "BILL_AMT4                     0\n",
       "BILL_AMT5                     0\n",
       "BILL_AMT6                     0\n",
       "PAY_AMT1                      0\n",
       "PAY_AMT2                      0\n",
       "PAY_AMT3                      0\n",
       "PAY_AMT4                      0\n",
       "PAY_AMT5                      0\n",
       "PAY_AMT6                      0\n",
       "default.payment.next.month    0\n",
       "dtype: int64"
      ]
     },
     "execution_count": 9,
     "metadata": {},
     "output_type": "execute_result"
    }
   ],
   "source": [
    "test_df.isnull().sum()"
   ]
  },
  {
   "cell_type": "code",
   "execution_count": 10,
   "metadata": {},
   "outputs": [
    {
     "data": {
      "text/plain": [
       "2    11253\n",
       "1     8502\n",
       "3     3888\n",
       "5      216\n",
       "4       92\n",
       "6       39\n",
       "0       10\n",
       "Name: EDUCATION, dtype: int64"
      ]
     },
     "execution_count": 10,
     "metadata": {},
     "output_type": "execute_result"
    }
   ],
   "source": [
    "train_df['EDUCATION'].value_counts()"
   ]
  },
  {
   "cell_type": "code",
   "execution_count": 11,
   "metadata": {},
   "outputs": [
    {
     "data": {
      "text/plain": [
       "2    2777\n",
       "1    2083\n",
       "3    1029\n",
       "5      64\n",
       "4      31\n",
       "6      12\n",
       "0       4\n",
       "Name: EDUCATION, dtype: int64"
      ]
     },
     "execution_count": 11,
     "metadata": {},
     "output_type": "execute_result"
    }
   ],
   "source": [
    "test_df['EDUCATION'].value_counts()"
   ]
  },
  {
   "cell_type": "code",
   "execution_count": 12,
   "metadata": {},
   "outputs": [
    {
     "data": {
      "text/plain": [
       "2    11253\n",
       "1     8502\n",
       "3     3888\n",
       "4      357\n",
       "Name: EDUCATION, dtype: int64"
      ]
     },
     "execution_count": 12,
     "metadata": {},
     "output_type": "execute_result"
    }
   ],
   "source": [
    "a = (train_df['EDUCATION'] == 5) | (train_df['EDUCATION'] == 6) | (train_df['EDUCATION'] == 0)\n",
    "train_df.loc[a, 'EDUCATION'] = 4\n",
    "b = (test_df['EDUCATION'] == 5) | (test_df['EDUCATION'] == 6) | (test_df['EDUCATION'] == 0)\n",
    "test_df.loc[b, 'EDUCATION'] = 4\n",
    "train_df['EDUCATION'].value_counts()"
   ]
  },
  {
   "cell_type": "code",
   "execution_count": 13,
   "metadata": {},
   "outputs": [
    {
     "data": {
      "text/plain": [
       "2    2777\n",
       "1    2083\n",
       "3    1029\n",
       "4     111\n",
       "Name: EDUCATION, dtype: int64"
      ]
     },
     "execution_count": 13,
     "metadata": {},
     "output_type": "execute_result"
    }
   ],
   "source": [
    "test_df['EDUCATION'].value_counts()"
   ]
  },
  {
   "cell_type": "code",
   "execution_count": null,
   "metadata": {},
   "outputs": [],
   "source": []
  },
  {
   "cell_type": "code",
   "execution_count": null,
   "metadata": {},
   "outputs": [],
   "source": []
  },
  {
   "cell_type": "code",
   "execution_count": 14,
   "metadata": {},
   "outputs": [
    {
     "data": {
      "text/plain": [
       "2    12786\n",
       "1    10909\n",
       "3      262\n",
       "0       43\n",
       "Name: MARRIAGE, dtype: int64"
      ]
     },
     "execution_count": 14,
     "metadata": {},
     "output_type": "execute_result"
    }
   ],
   "source": [
    "train_df['MARRIAGE'].value_counts()"
   ]
  },
  {
   "cell_type": "code",
   "execution_count": 15,
   "metadata": {},
   "outputs": [
    {
     "data": {
      "text/plain": [
       "2    3178\n",
       "1    2750\n",
       "3      61\n",
       "0      11\n",
       "Name: MARRIAGE, dtype: int64"
      ]
     },
     "execution_count": 15,
     "metadata": {},
     "output_type": "execute_result"
    }
   ],
   "source": [
    "test_df['MARRIAGE'].value_counts()"
   ]
  },
  {
   "cell_type": "code",
   "execution_count": 16,
   "metadata": {},
   "outputs": [
    {
     "data": {
      "text/plain": [
       "2    12786\n",
       "1    10909\n",
       "3      305\n",
       "Name: MARRIAGE, dtype: int64"
      ]
     },
     "execution_count": 16,
     "metadata": {},
     "output_type": "execute_result"
    }
   ],
   "source": [
    "train_df.loc[(train_df['MARRIAGE'] == 0), 'MARRIAGE'] = 3\n",
    "test_df.loc[(test_df['MARRIAGE'] == 0), 'MARRIAGE'] = 3\n",
    "train_df['MARRIAGE'].value_counts()"
   ]
  },
  {
   "cell_type": "code",
   "execution_count": 17,
   "metadata": {},
   "outputs": [
    {
     "data": {
      "text/plain": [
       "2    3178\n",
       "1    2750\n",
       "3      72\n",
       "Name: MARRIAGE, dtype: int64"
      ]
     },
     "execution_count": 17,
     "metadata": {},
     "output_type": "execute_result"
    }
   ],
   "source": [
    "test_df['MARRIAGE'].value_counts()"
   ]
  },
  {
   "cell_type": "code",
   "execution_count": 18,
   "metadata": {},
   "outputs": [
    {
     "data": {
      "text/plain": [
       "2    14530\n",
       "1     9470\n",
       "Name: SEX, dtype: int64"
      ]
     },
     "execution_count": 18,
     "metadata": {},
     "output_type": "execute_result"
    }
   ],
   "source": [
    "train_df['SEX'].value_counts()"
   ]
  },
  {
   "cell_type": "code",
   "execution_count": 19,
   "metadata": {},
   "outputs": [
    {
     "data": {
      "text/plain": [
       "2    3582\n",
       "1    2418\n",
       "Name: SEX, dtype: int64"
      ]
     },
     "execution_count": 19,
     "metadata": {},
     "output_type": "execute_result"
    }
   ],
   "source": [
    "test_df['SEX'].value_counts()"
   ]
  },
  {
   "cell_type": "code",
   "execution_count": 20,
   "metadata": {},
   "outputs": [
    {
     "data": {
      "text/plain": [
       "Index(['ID', 'LIMIT_BAL', 'SEX', 'EDUCATION', 'MARRIAGE', 'AGE', 'PAY_0',\n",
       "       'PAY_2', 'PAY_3', 'PAY_4', 'PAY_5', 'PAY_6', 'BILL_AMT1', 'BILL_AMT2',\n",
       "       'BILL_AMT3', 'BILL_AMT4', 'BILL_AMT5', 'BILL_AMT6', 'PAY_AMT1',\n",
       "       'PAY_AMT2', 'PAY_AMT3', 'PAY_AMT4', 'PAY_AMT5', 'PAY_AMT6',\n",
       "       'default.payment.next.month'],\n",
       "      dtype='object')"
      ]
     },
     "execution_count": 20,
     "metadata": {},
     "output_type": "execute_result"
    }
   ],
   "source": [
    "test_df.columns"
   ]
  },
  {
   "cell_type": "code",
   "execution_count": 21,
   "metadata": {},
   "outputs": [],
   "source": [
    "#bills=['BILL_AMT1', 'BILL_AMT2','BILL_AMT3', 'BILL_AMT4', 'BILL_AMT5', 'BILL_AMT6']\n",
    "#pay =['PAY_AMT1','PAY_AMT2', 'PAY_AMT3', 'PAY_AMT4', 'PAY_AMT5', 'PAY_AMT6']"
   ]
  },
  {
   "cell_type": "code",
   "execution_count": 22,
   "metadata": {},
   "outputs": [],
   "source": [
    "#train_df['DUES'] = (train_df[bills].sum(axis=1)) - (train_df[pay].sum(axis=1))\n",
    "#test_df['DUES'] = (test_df[bills].sum(axis=1)) - (test_df[pay].sum(axis=1))"
   ]
  },
  {
   "cell_type": "code",
   "execution_count": null,
   "metadata": {},
   "outputs": [],
   "source": []
  },
  {
   "cell_type": "code",
   "execution_count": 23,
   "metadata": {},
   "outputs": [
    {
     "data": {
      "text/html": [
       "<div>\n",
       "<style scoped>\n",
       "    .dataframe tbody tr th:only-of-type {\n",
       "        vertical-align: middle;\n",
       "    }\n",
       "\n",
       "    .dataframe tbody tr th {\n",
       "        vertical-align: top;\n",
       "    }\n",
       "\n",
       "    .dataframe thead th {\n",
       "        text-align: right;\n",
       "    }\n",
       "</style>\n",
       "<table border=\"1\" class=\"dataframe\">\n",
       "  <thead>\n",
       "    <tr style=\"text-align: right;\">\n",
       "      <th></th>\n",
       "      <th>ID</th>\n",
       "      <th>LIMIT_BAL</th>\n",
       "      <th>SEX</th>\n",
       "      <th>EDUCATION</th>\n",
       "      <th>MARRIAGE</th>\n",
       "      <th>AGE</th>\n",
       "      <th>PAY_0</th>\n",
       "      <th>PAY_2</th>\n",
       "      <th>PAY_3</th>\n",
       "      <th>PAY_4</th>\n",
       "      <th>...</th>\n",
       "      <th>BILL_AMT4</th>\n",
       "      <th>BILL_AMT5</th>\n",
       "      <th>BILL_AMT6</th>\n",
       "      <th>PAY_AMT1</th>\n",
       "      <th>PAY_AMT2</th>\n",
       "      <th>PAY_AMT3</th>\n",
       "      <th>PAY_AMT4</th>\n",
       "      <th>PAY_AMT5</th>\n",
       "      <th>PAY_AMT6</th>\n",
       "      <th>default.payment.next.month</th>\n",
       "    </tr>\n",
       "  </thead>\n",
       "  <tbody>\n",
       "    <tr>\n",
       "      <th>0</th>\n",
       "      <td>28450</td>\n",
       "      <td>50000.0</td>\n",
       "      <td>2</td>\n",
       "      <td>3</td>\n",
       "      <td>1</td>\n",
       "      <td>33</td>\n",
       "      <td>0</td>\n",
       "      <td>0</td>\n",
       "      <td>-2</td>\n",
       "      <td>-2</td>\n",
       "      <td>...</td>\n",
       "      <td>0.0</td>\n",
       "      <td>0.0</td>\n",
       "      <td>0.0</td>\n",
       "      <td>0.0</td>\n",
       "      <td>0.0</td>\n",
       "      <td>0.0</td>\n",
       "      <td>0.0</td>\n",
       "      <td>0.0</td>\n",
       "      <td>0.0</td>\n",
       "      <td>0</td>\n",
       "    </tr>\n",
       "    <tr>\n",
       "      <th>1</th>\n",
       "      <td>9252</td>\n",
       "      <td>30000.0</td>\n",
       "      <td>1</td>\n",
       "      <td>2</td>\n",
       "      <td>1</td>\n",
       "      <td>39</td>\n",
       "      <td>1</td>\n",
       "      <td>2</td>\n",
       "      <td>0</td>\n",
       "      <td>0</td>\n",
       "      <td>...</td>\n",
       "      <td>28013.0</td>\n",
       "      <td>28614.0</td>\n",
       "      <td>29636.0</td>\n",
       "      <td>129.0</td>\n",
       "      <td>1456.0</td>\n",
       "      <td>1000.0</td>\n",
       "      <td>1050.0</td>\n",
       "      <td>1500.0</td>\n",
       "      <td>1505.0</td>\n",
       "      <td>0</td>\n",
       "    </tr>\n",
       "    <tr>\n",
       "      <th>2</th>\n",
       "      <td>27780</td>\n",
       "      <td>230000.0</td>\n",
       "      <td>2</td>\n",
       "      <td>1</td>\n",
       "      <td>2</td>\n",
       "      <td>24</td>\n",
       "      <td>-1</td>\n",
       "      <td>0</td>\n",
       "      <td>0</td>\n",
       "      <td>0</td>\n",
       "      <td>...</td>\n",
       "      <td>0.0</td>\n",
       "      <td>2000.0</td>\n",
       "      <td>987.0</td>\n",
       "      <td>7000.0</td>\n",
       "      <td>1000.0</td>\n",
       "      <td>0.0</td>\n",
       "      <td>2000.0</td>\n",
       "      <td>987.0</td>\n",
       "      <td>1951.0</td>\n",
       "      <td>0</td>\n",
       "    </tr>\n",
       "    <tr>\n",
       "      <th>3</th>\n",
       "      <td>4678</td>\n",
       "      <td>360000.0</td>\n",
       "      <td>2</td>\n",
       "      <td>1</td>\n",
       "      <td>1</td>\n",
       "      <td>35</td>\n",
       "      <td>-1</td>\n",
       "      <td>-1</td>\n",
       "      <td>-2</td>\n",
       "      <td>-2</td>\n",
       "      <td>...</td>\n",
       "      <td>0.0</td>\n",
       "      <td>150.0</td>\n",
       "      <td>137.0</td>\n",
       "      <td>0.0</td>\n",
       "      <td>0.0</td>\n",
       "      <td>0.0</td>\n",
       "      <td>150.0</td>\n",
       "      <td>137.0</td>\n",
       "      <td>0.0</td>\n",
       "      <td>0</td>\n",
       "    </tr>\n",
       "    <tr>\n",
       "      <th>4</th>\n",
       "      <td>25735</td>\n",
       "      <td>200000.0</td>\n",
       "      <td>2</td>\n",
       "      <td>1</td>\n",
       "      <td>1</td>\n",
       "      <td>46</td>\n",
       "      <td>-1</td>\n",
       "      <td>-1</td>\n",
       "      <td>-1</td>\n",
       "      <td>-1</td>\n",
       "      <td>...</td>\n",
       "      <td>5430.0</td>\n",
       "      <td>6683.0</td>\n",
       "      <td>7790.0</td>\n",
       "      <td>18031.0</td>\n",
       "      <td>3275.0</td>\n",
       "      <td>5430.0</td>\n",
       "      <td>6871.0</td>\n",
       "      <td>7790.0</td>\n",
       "      <td>8901.0</td>\n",
       "      <td>0</td>\n",
       "    </tr>\n",
       "  </tbody>\n",
       "</table>\n",
       "<p>5 rows × 25 columns</p>\n",
       "</div>"
      ],
      "text/plain": [
       "      ID  LIMIT_BAL  SEX  EDUCATION  MARRIAGE  AGE  PAY_0  PAY_2  PAY_3  \\\n",
       "0  28450    50000.0    2          3         1   33      0      0     -2   \n",
       "1   9252    30000.0    1          2         1   39      1      2      0   \n",
       "2  27780   230000.0    2          1         2   24     -1      0      0   \n",
       "3   4678   360000.0    2          1         1   35     -1     -1     -2   \n",
       "4  25735   200000.0    2          1         1   46     -1     -1     -1   \n",
       "\n",
       "   PAY_4  ...  BILL_AMT4  BILL_AMT5  BILL_AMT6  PAY_AMT1  PAY_AMT2  PAY_AMT3  \\\n",
       "0     -2  ...        0.0        0.0        0.0       0.0       0.0       0.0   \n",
       "1      0  ...    28013.0    28614.0    29636.0     129.0    1456.0    1000.0   \n",
       "2      0  ...        0.0     2000.0      987.0    7000.0    1000.0       0.0   \n",
       "3     -2  ...        0.0      150.0      137.0       0.0       0.0       0.0   \n",
       "4     -1  ...     5430.0     6683.0     7790.0   18031.0    3275.0    5430.0   \n",
       "\n",
       "   PAY_AMT4  PAY_AMT5  PAY_AMT6  default.payment.next.month  \n",
       "0       0.0       0.0       0.0                           0  \n",
       "1    1050.0    1500.0    1505.0                           0  \n",
       "2    2000.0     987.0    1951.0                           0  \n",
       "3     150.0     137.0       0.0                           0  \n",
       "4    6871.0    7790.0    8901.0                           0  \n",
       "\n",
       "[5 rows x 25 columns]"
      ]
     },
     "execution_count": 23,
     "metadata": {},
     "output_type": "execute_result"
    }
   ],
   "source": [
    "train_df.head(5)"
   ]
  },
  {
   "cell_type": "code",
   "execution_count": 24,
   "metadata": {},
   "outputs": [
    {
     "data": {
      "text/plain": [
       "BILL_AMT6                     0.005312\n",
       "BILL_AMT5                     0.006133\n",
       "BILL_AMT4                     0.010382\n",
       "AGE                           0.011271\n",
       "BILL_AMT3                     0.013167\n",
       "BILL_AMT2                     0.013174\n",
       "ID                            0.014621\n",
       "BILL_AMT1                     0.019097\n",
       "MARRIAGE                      0.028504\n",
       "EDUCATION                     0.032912\n",
       "SEX                           0.046833\n",
       "PAY_AMT5                      0.052119\n",
       "PAY_AMT4                      0.054156\n",
       "PAY_AMT6                      0.054412\n",
       "PAY_AMT3                      0.054829\n",
       "PAY_AMT2                      0.055041\n",
       "PAY_AMT1                      0.072375\n",
       "LIMIT_BAL                     0.148157\n",
       "PAY_6                         0.180157\n",
       "PAY_5                         0.194040\n",
       "PAY_4                         0.208685\n",
       "PAY_3                         0.226864\n",
       "PAY_2                         0.254476\n",
       "PAY_0                         0.316101\n",
       "default.payment.next.month    1.000000\n",
       "Name: default.payment.next.month, dtype: float64"
      ]
     },
     "execution_count": 24,
     "metadata": {},
     "output_type": "execute_result"
    }
   ],
   "source": [
    "abs(train_df.corr()['default.payment.next.month']).sort_values(ascending= True)"
   ]
  },
  {
   "cell_type": "code",
   "execution_count": 25,
   "metadata": {},
   "outputs": [
    {
     "data": {
      "text/plain": [
       "BILL_AMT6                     0.005495\n",
       "BILL_AMT4                     0.008950\n",
       "BILL_AMT5                     0.009185\n",
       "ID                            0.011553\n",
       "SEX                           0.012684\n",
       "BILL_AMT3                     0.017627\n",
       "BILL_AMT2                     0.018156\n",
       "BILL_AMT1                     0.021572\n",
       "MARRIAGE                      0.023761\n",
       "AGE                           0.024348\n",
       "EDUCATION                     0.036879\n",
       "PAY_AMT6                      0.048233\n",
       "PAY_AMT3                      0.066212\n",
       "PAY_AMT5                      0.067012\n",
       "PAY_AMT4                      0.067109\n",
       "PAY_AMT2                      0.074124\n",
       "PAY_AMT1                      0.075598\n",
       "LIMIT_BAL                     0.174342\n",
       "PAY_6                         0.212894\n",
       "PAY_5                         0.243683\n",
       "PAY_4                         0.247351\n",
       "PAY_3                         0.267920\n",
       "PAY_2                         0.299134\n",
       "PAY_0                         0.358860\n",
       "default.payment.next.month    1.000000\n",
       "Name: default.payment.next.month, dtype: float64"
      ]
     },
     "execution_count": 25,
     "metadata": {},
     "output_type": "execute_result"
    }
   ],
   "source": [
    "abs(test_df.corr()['default.payment.next.month']).sort_values(ascending= True)"
   ]
  },
  {
   "cell_type": "code",
   "execution_count": 26,
   "metadata": {},
   "outputs": [],
   "source": [
    "import matplotlib.pyplot as plt\n",
    "import seaborn as sns"
   ]
  },
  {
   "cell_type": "code",
   "execution_count": 27,
   "metadata": {},
   "outputs": [
    {
     "name": "stderr",
     "output_type": "stream",
     "text": [
      "c:\\Users\\HP\\anaconda3\\lib\\site-packages\\seaborn\\_decorators.py:36: FutureWarning: Pass the following variable as a keyword arg: x. From version 0.12, the only valid positional argument will be `data`, and passing other arguments without an explicit keyword will result in an error or misinterpretation.\n",
      "  warnings.warn(\n"
     ]
    },
    {
     "data": {
      "text/plain": [
       "<AxesSubplot:xlabel='default.payment.next.month', ylabel='count'>"
      ]
     },
     "execution_count": 27,
     "metadata": {},
     "output_type": "execute_result"
    },
    {
     "data": {
      "image/png": "[encoded data removed]",
      "text/plain": [
       "<Figure size 640x480 with 1 Axes>"
      ]
     },
     "metadata": {},
     "output_type": "display_data"
    }
   ],
   "source": [
    "sns.countplot('default.payment.next.month', data = train_df)"
   ]
  },
  {
   "cell_type": "code",
   "execution_count": 28,
   "metadata": {},
   "outputs": [
    {
     "name": "stderr",
     "output_type": "stream",
     "text": [
      "c:\\Users\\HP\\anaconda3\\lib\\site-packages\\seaborn\\_decorators.py:36: FutureWarning: Pass the following variable as a keyword arg: x. From version 0.12, the only valid positional argument will be `data`, and passing other arguments without an explicit keyword will result in an error or misinterpretation.\n",
      "  warnings.warn(\n"
     ]
    },
    {
     "data": {
      "text/plain": [
       "<AxesSubplot:xlabel='default.payment.next.month', ylabel='count'>"
      ]
     },
     "execution_count": 28,
     "metadata": {},
     "output_type": "execute_result"
    },
    {
     "data": {
      "image/png": "[encoded data removed]",
      "text/plain": [
       "<Figure size 640x480 with 1 Axes>"
      ]
     },
     "metadata": {},
     "output_type": "display_data"
    }
   ],
   "source": [
    "sns.countplot('default.payment.next.month', data = test_df)"
   ]
  },
  {
   "cell_type": "code",
   "execution_count": 29,
   "metadata": {},
   "outputs": [],
   "source": [
    "from imblearn.over_sampling import SMOTE"
   ]
  },
  {
   "cell_type": "code",
   "execution_count": 30,
   "metadata": {},
   "outputs": [
    {
     "name": "stdout",
     "output_type": "stream",
     "text": [
      "Original dataset shape 24000\n",
      "Resampled dataset shape 37474\n",
      "Original dataset shape 6000\n",
      "Resampled dataset shape 9254\n"
     ]
    }
   ],
   "source": [
    "smote = SMOTE()\n",
    "\n",
    "# fit predictor and target variable\n",
    "x_train_smote, y_train_smote = smote.fit_resample(train_df.iloc[:,0:-1], train_df['default.payment.next.month'])\n",
    "x_test_smote, y_test_smote = smote.fit_resample(test_df.iloc[:,0:-1], test_df['default.payment.next.month'])\n",
    "\n",
    "print('Original dataset shape', len(train_df))\n",
    "print('Resampled dataset shape', len(y_train_smote))\n",
    "\n",
    "print('Original dataset shape', len(test_df))\n",
    "print('Resampled dataset shape', len(y_test_smote))"
   ]
  },
  {
   "cell_type": "code",
   "execution_count": 31,
   "metadata": {},
   "outputs": [],
   "source": [
    "columns = list(train_df.columns)"
   ]
  },
  {
   "cell_type": "code",
   "execution_count": 32,
   "metadata": {},
   "outputs": [
    {
     "data": {
      "text/plain": [
       "'default.payment.next.month'"
      ]
     },
     "execution_count": 32,
     "metadata": {},
     "output_type": "execute_result"
    }
   ],
   "source": [
    "columns.pop()"
   ]
  },
  {
   "cell_type": "code",
   "execution_count": 33,
   "metadata": {},
   "outputs": [],
   "source": [
    "balance_train = pd.DataFrame(x_train_smote, columns=columns)\n",
    "balance_train['default.payment.next.month'] = y_train_smote\n",
    "balance_test = pd.DataFrame(x_test_smote, columns=columns)\n",
    "balance_test['default.payment.next.month'] = y_test_smote"
   ]
  },
  {
   "cell_type": "code",
   "execution_count": null,
   "metadata": {},
   "outputs": [],
   "source": []
  },
  {
   "cell_type": "code",
   "execution_count": 34,
   "metadata": {},
   "outputs": [
    {
     "name": "stderr",
     "output_type": "stream",
     "text": [
      "c:\\Users\\HP\\anaconda3\\lib\\site-packages\\seaborn\\_decorators.py:36: FutureWarning: Pass the following variable as a keyword arg: x. From version 0.12, the only valid positional argument will be `data`, and passing other arguments without an explicit keyword will result in an error or misinterpretation.\n",
      "  warnings.warn(\n"
     ]
    },
    {
     "data": {
      "text/plain": [
       "<AxesSubplot:xlabel='default.payment.next.month', ylabel='count'>"
      ]
     },
     "execution_count": 34,
     "metadata": {},
     "output_type": "execute_result"
    },
    {
     "data": {
      "image/png": "[encoded data removed]",
      "text/plain": [
       "<Figure size 640x480 with 1 Axes>"
      ]
     },
     "metadata": {},
     "output_type": "display_data"
    }
   ],
   "source": [
    "sns.countplot('default.payment.next.month', data = balance_train)"
   ]
  },
  {
   "cell_type": "code",
   "execution_count": 35,
   "metadata": {},
   "outputs": [],
   "source": [
    "#bills=['BILL_AMT1', 'BILL_AMT2','BILL_AMT3', 'BILL_AMT4', 'BILL_AMT5', 'BILL_AMT6']\n",
    "#pay =['PAY_AMT1','PAY_AMT2', 'PAY_AMT3', 'PAY_AMT4', 'PAY_AMT5', 'PAY_AMT6']"
   ]
  },
  {
   "cell_type": "code",
   "execution_count": 36,
   "metadata": {},
   "outputs": [],
   "source": [
    "#balance_train['DUES'] = (balance_train[bills].sum(axis=1)) - (balance_train[pay].sum(axis=1))\n",
    "#balance_test['DUES'] = (balance_test[bills].sum(axis=1)) - (balance_test[pay].sum(axis=1))"
   ]
  },
  {
   "cell_type": "code",
   "execution_count": 37,
   "metadata": {},
   "outputs": [
    {
     "data": {
      "text/plain": [
       "AGE                           0.002621\n",
       "BILL_AMT6                     0.008181\n",
       "BILL_AMT5                     0.010597\n",
       "BILL_AMT4                     0.016297\n",
       "BILL_AMT3                     0.019473\n",
       "BILL_AMT2                     0.020185\n",
       "ID                            0.024154\n",
       "BILL_AMT1                     0.030177\n",
       "PAY_AMT5                      0.086012\n",
       "PAY_AMT2                      0.087879\n",
       "PAY_AMT6                      0.088521\n",
       "PAY_AMT4                      0.089571\n",
       "PAY_AMT3                      0.089862\n",
       "EDUCATION                     0.107900\n",
       "PAY_AMT1                      0.112415\n",
       "LIMIT_BAL                     0.187287\n",
       "PAY_6                         0.206100\n",
       "MARRIAGE                      0.207689\n",
       "PAY_5                         0.218208\n",
       "SEX                           0.224968\n",
       "PAY_4                         0.229628\n",
       "PAY_3                         0.246045\n",
       "PAY_2                         0.273702\n",
       "PAY_0                         0.335281\n",
       "default.payment.next.month    1.000000\n",
       "Name: default.payment.next.month, dtype: float64"
      ]
     },
     "execution_count": 37,
     "metadata": {},
     "output_type": "execute_result"
    }
   ],
   "source": [
    "abs(balance_train.corr()['default.payment.next.month']).sort_values(ascending= True)"
   ]
  },
  {
   "cell_type": "code",
   "execution_count": 38,
   "metadata": {},
   "outputs": [
    {
     "data": {
      "text/plain": [
       "BILL_AMT6                     0.004013\n",
       "BILL_AMT4                     0.009358\n",
       "BILL_AMT5                     0.010197\n",
       "ID                            0.010950\n",
       "AGE                           0.012465\n",
       "BILL_AMT3                     0.022169\n",
       "BILL_AMT2                     0.022205\n",
       "BILL_AMT1                     0.026485\n",
       "PAY_AMT6                      0.078938\n",
       "EDUCATION                     0.089398\n",
       "PAY_AMT3                      0.101838\n",
       "PAY_AMT5                      0.105293\n",
       "PAY_AMT4                      0.110540\n",
       "PAY_AMT2                      0.117791\n",
       "PAY_AMT1                      0.121033\n",
       "SEX                           0.182438\n",
       "MARRIAGE                      0.207379\n",
       "LIMIT_BAL                     0.224007\n",
       "PAY_6                         0.244386\n",
       "PAY_5                         0.277512\n",
       "PAY_4                         0.278245\n",
       "PAY_3                         0.291909\n",
       "PAY_2                         0.323459\n",
       "PAY_0                         0.374443\n",
       "default.payment.next.month    1.000000\n",
       "Name: default.payment.next.month, dtype: float64"
      ]
     },
     "execution_count": 38,
     "metadata": {},
     "output_type": "execute_result"
    }
   ],
   "source": [
    "abs(balance_test.corr()['default.payment.next.month']).sort_values(ascending= True)"
   ]
  },
  {
   "cell_type": "code",
   "execution_count": null,
   "metadata": {},
   "outputs": [],
   "source": []
  },
  {
   "cell_type": "code",
   "execution_count": 39,
   "metadata": {},
   "outputs": [],
   "source": [
    "balance_train.drop(['ID','AGE'], axis=1,inplace=True)\n",
    "balance_test.drop(['ID','AGE'], axis=1,inplace=True)"
   ]
  },
  {
   "cell_type": "code",
   "execution_count": 40,
   "metadata": {},
   "outputs": [
    {
     "data": {
      "text/html": [
       "<div>\n",
       "<style scoped>\n",
       "    .dataframe tbody tr th:only-of-type {\n",
       "        vertical-align: middle;\n",
       "    }\n",
       "\n",
       "    .dataframe tbody tr th {\n",
       "        vertical-align: top;\n",
       "    }\n",
       "\n",
       "    .dataframe thead th {\n",
       "        text-align: right;\n",
       "    }\n",
       "</style>\n",
       "<table border=\"1\" class=\"dataframe\">\n",
       "  <thead>\n",
       "    <tr style=\"text-align: right;\">\n",
       "      <th></th>\n",
       "      <th>LIMIT_BAL</th>\n",
       "      <th>SEX</th>\n",
       "      <th>EDUCATION</th>\n",
       "      <th>MARRIAGE</th>\n",
       "      <th>PAY_0</th>\n",
       "      <th>PAY_2</th>\n",
       "      <th>PAY_3</th>\n",
       "      <th>PAY_4</th>\n",
       "      <th>PAY_5</th>\n",
       "      <th>PAY_6</th>\n",
       "      <th>...</th>\n",
       "      <th>BILL_AMT4</th>\n",
       "      <th>BILL_AMT5</th>\n",
       "      <th>BILL_AMT6</th>\n",
       "      <th>PAY_AMT1</th>\n",
       "      <th>PAY_AMT2</th>\n",
       "      <th>PAY_AMT3</th>\n",
       "      <th>PAY_AMT4</th>\n",
       "      <th>PAY_AMT5</th>\n",
       "      <th>PAY_AMT6</th>\n",
       "      <th>default.payment.next.month</th>\n",
       "    </tr>\n",
       "  </thead>\n",
       "  <tbody>\n",
       "    <tr>\n",
       "      <th>0</th>\n",
       "      <td>50000.0</td>\n",
       "      <td>2</td>\n",
       "      <td>3</td>\n",
       "      <td>1</td>\n",
       "      <td>0</td>\n",
       "      <td>0</td>\n",
       "      <td>-2</td>\n",
       "      <td>-2</td>\n",
       "      <td>-2</td>\n",
       "      <td>-2</td>\n",
       "      <td>...</td>\n",
       "      <td>0.0</td>\n",
       "      <td>0.0</td>\n",
       "      <td>0.0</td>\n",
       "      <td>0.0</td>\n",
       "      <td>0.0</td>\n",
       "      <td>0.0</td>\n",
       "      <td>0.0</td>\n",
       "      <td>0.0</td>\n",
       "      <td>0.0</td>\n",
       "      <td>0</td>\n",
       "    </tr>\n",
       "    <tr>\n",
       "      <th>1</th>\n",
       "      <td>30000.0</td>\n",
       "      <td>1</td>\n",
       "      <td>2</td>\n",
       "      <td>1</td>\n",
       "      <td>1</td>\n",
       "      <td>2</td>\n",
       "      <td>0</td>\n",
       "      <td>0</td>\n",
       "      <td>0</td>\n",
       "      <td>0</td>\n",
       "      <td>...</td>\n",
       "      <td>28013.0</td>\n",
       "      <td>28614.0</td>\n",
       "      <td>29636.0</td>\n",
       "      <td>129.0</td>\n",
       "      <td>1456.0</td>\n",
       "      <td>1000.0</td>\n",
       "      <td>1050.0</td>\n",
       "      <td>1500.0</td>\n",
       "      <td>1505.0</td>\n",
       "      <td>0</td>\n",
       "    </tr>\n",
       "  </tbody>\n",
       "</table>\n",
       "<p>2 rows × 23 columns</p>\n",
       "</div>"
      ],
      "text/plain": [
       "   LIMIT_BAL  SEX  EDUCATION  MARRIAGE  PAY_0  PAY_2  PAY_3  PAY_4  PAY_5  \\\n",
       "0    50000.0    2          3         1      0      0     -2     -2     -2   \n",
       "1    30000.0    1          2         1      1      2      0      0      0   \n",
       "\n",
       "   PAY_6  ...  BILL_AMT4  BILL_AMT5  BILL_AMT6  PAY_AMT1  PAY_AMT2  PAY_AMT3  \\\n",
       "0     -2  ...        0.0        0.0        0.0       0.0       0.0       0.0   \n",
       "1      0  ...    28013.0    28614.0    29636.0     129.0    1456.0    1000.0   \n",
       "\n",
       "   PAY_AMT4  PAY_AMT5  PAY_AMT6  default.payment.next.month  \n",
       "0       0.0       0.0       0.0                           0  \n",
       "1    1050.0    1500.0    1505.0                           0  \n",
       "\n",
       "[2 rows x 23 columns]"
      ]
     },
     "execution_count": 40,
     "metadata": {},
     "output_type": "execute_result"
    }
   ],
   "source": [
    "balance_train.head(2)"
   ]
  },
  {
   "cell_type": "code",
   "execution_count": null,
   "metadata": {},
   "outputs": [],
   "source": []
  },
  {
   "cell_type": "code",
   "execution_count": 41,
   "metadata": {},
   "outputs": [
    {
     "ename": "ZeroDivisionError",
     "evalue": "division by zero",
     "output_type": "error",
     "traceback": [
      "\u001b[1;31m---------------------------------------------------------------------------\u001b[0m",
      "\u001b[1;31mZeroDivisionError\u001b[0m                         Traceback (most recent call last)",
      "\u001b[1;32m~\\AppData\\Local\\Temp\\ipykernel_10832\\2354412189.py\u001b[0m in \u001b[0;36m<module>\u001b[1;34m\u001b[0m\n\u001b[1;32m----> 1\u001b[1;33m \u001b[1;36m1\u001b[0m\u001b[1;33m/\u001b[0m\u001b[1;36m0\u001b[0m\u001b[1;33m\u001b[0m\u001b[1;33m\u001b[0m\u001b[0m\n\u001b[0m",
      "\u001b[1;31mZeroDivisionError\u001b[0m: division by zero"
     ]
    }
   ],
   "source": [
    "1/0"
   ]
  },
  {
   "cell_type": "code",
   "execution_count": null,
   "metadata": {},
   "outputs": [],
   "source": []
  },
  {
   "cell_type": "code",
   "execution_count": null,
   "metadata": {},
   "outputs": [],
   "source": []
  },
  {
   "cell_type": "code",
   "execution_count": 42,
   "metadata": {},
   "outputs": [],
   "source": [
    "balance_train.rename(columns={'default.payment.next.month':'DEFAULTER'},inplace=True)\n",
    "balance_test.rename(columns={'default.payment.next.month':'DEFAULTER'},inplace=True)"
   ]
  },
  {
   "cell_type": "code",
   "execution_count": 43,
   "metadata": {},
   "outputs": [
    {
     "data": {
      "text/plain": [
       "Index(['LIMIT_BAL', 'SEX', 'EDUCATION', 'MARRIAGE', 'PAY_0', 'PAY_2', 'PAY_3',\n",
       "       'PAY_4', 'PAY_5', 'PAY_6', 'BILL_AMT1', 'BILL_AMT2', 'BILL_AMT3',\n",
       "       'BILL_AMT4', 'BILL_AMT5', 'BILL_AMT6', 'PAY_AMT1', 'PAY_AMT2',\n",
       "       'PAY_AMT3', 'PAY_AMT4', 'PAY_AMT5', 'PAY_AMT6', 'DEFAULTER'],\n",
       "      dtype='object')"
      ]
     },
     "execution_count": 43,
     "metadata": {},
     "output_type": "execute_result"
    }
   ],
   "source": [
    "balance_train.columns"
   ]
  },
  {
   "cell_type": "code",
   "execution_count": 44,
   "metadata": {},
   "outputs": [],
   "source": [
    "cat_features=['SEX', 'EDUCATION', 'MARRIAGE','PAY_0','PAY_2', 'PAY_3', 'PAY_4', 'PAY_5', 'PAY_6']\n",
    "num_features=[  'LIMIT_BAL','BILL_AMT1', 'BILL_AMT2',\n",
    "                'BILL_AMT3', 'BILL_AMT4', 'BILL_AMT5', 'BILL_AMT6', 'PAY_AMT1',\n",
    "                'PAY_AMT2', 'PAY_AMT3', 'PAY_AMT4', 'PAY_AMT5', 'PAY_AMT6']"
   ]
  },
  {
   "cell_type": "code",
   "execution_count": 45,
   "metadata": {},
   "outputs": [],
   "source": [
    "x_train,x_test = balance_train.drop('DEFAULTER',axis=1),balance_test.drop('DEFAULTER',axis=1)\n",
    "y_train,y_test = balance_train['DEFAULTER'],balance_test['DEFAULTER']"
   ]
  },
  {
   "cell_type": "code",
   "execution_count": 46,
   "metadata": {},
   "outputs": [
    {
     "data": {
      "text/plain": [
       "Index(['LIMIT_BAL', 'SEX', 'EDUCATION', 'MARRIAGE', 'PAY_0', 'PAY_2', 'PAY_3',\n",
       "       'PAY_4', 'PAY_5', 'PAY_6', 'BILL_AMT1', 'BILL_AMT2', 'BILL_AMT3',\n",
       "       'BILL_AMT4', 'BILL_AMT5', 'BILL_AMT6', 'PAY_AMT1', 'PAY_AMT2',\n",
       "       'PAY_AMT3', 'PAY_AMT4', 'PAY_AMT5', 'PAY_AMT6'],\n",
       "      dtype='object')"
      ]
     },
     "execution_count": 46,
     "metadata": {},
     "output_type": "execute_result"
    }
   ],
   "source": [
    "x_train.columns"
   ]
  },
  {
   "cell_type": "code",
   "execution_count": 47,
   "metadata": {},
   "outputs": [
    {
     "name": "stdout",
     "output_type": "stream",
     "text": [
      "Training features shape :(37474, 22)\n",
      "Training output shape :(37474,)\n",
      "Testing features shape :(9254, 22)\n",
      "Testin output shape : (9254,)\n"
     ]
    }
   ],
   "source": [
    "print(f'Training features shape :{x_train.shape}\\n'\n",
    "       f'Training output shape :{y_train.shape}\\n'\n",
    "       f'Testing features shape :{x_test.shape}\\n'\n",
    "       f'Testin output shape : {y_test.shape}')"
   ]
  },
  {
   "cell_type": "code",
   "execution_count": 48,
   "metadata": {},
   "outputs": [],
   "source": [
    "from sklearn.compose import ColumnTransformer\n",
    "from sklearn.preprocessing import OneHotEncoder,StandardScaler\n"
   ]
  },
  {
   "cell_type": "code",
   "execution_count": 51,
   "metadata": {},
   "outputs": [],
   "source": [
    "preprocessing = ColumnTransformer(transformers=[\n",
    "    ('tnf1',OneHotEncoder(drop='first',sparse=False, handle_unknown='ignore'), cat_features),\n",
    "    ('tnf2',StandardScaler(),num_features)],\n",
    "    remainder='passthrough')"
   ]
  },
  {
   "cell_type": "code",
   "execution_count": 52,
   "metadata": {},
   "outputs": [],
   "source": [
    "x_train_arr=preprocessing.fit_transform(x_train)\n",
    "x_test_arr = preprocessing.transform(x_test)"
   ]
  },
  {
   "cell_type": "code",
   "execution_count": 53,
   "metadata": {},
   "outputs": [],
   "source": [
    "y_train_arr= np.array(y_train)\n",
    "y_test_arr= np.array(y_test)"
   ]
  },
  {
   "cell_type": "code",
   "execution_count": 54,
   "metadata": {},
   "outputs": [],
   "source": [
    "train_arr= np.column_stack([x_train_arr, y_train_arr])\n",
    "test_arr= np.column_stack([x_test_arr, y_test_arr])"
   ]
  },
  {
   "cell_type": "code",
   "execution_count": null,
   "metadata": {},
   "outputs": [],
   "source": []
  },
  {
   "cell_type": "code",
   "execution_count": null,
   "metadata": {},
   "outputs": [],
   "source": [
    "df = pd.read_csv(r\"artifacts\\\\data_validation\\\\data_validated.csv\")\n",
    "\n",
    "df['Dues'] = (df['BILL_AMT_APR']+df['BILL_AMT_MAY']+df['BILL_AMT_JUN']+\n",
    "            df['BILL_AMT_JUL']+df['BILL_AMT_SEPT']) - (df['PAY_AMT_APR']+ df['PAY_AMT_MAY']+\n",
    "            df['PAY_AMT_JUN']+df['PAY_AMT_JUL']+df['PAY_AMT_AUG']+df['PAY_AMT_SEPT'])\n",
    "\n",
    "\n",
    "cat_features=['SEX', 'EDUCATION', 'MARRIAGE','AGE']\n",
    "ordinal_features=['PAY_SEPT','PAY_AUG', 'PAY_JUL', 'PAY_JUN', 'PAY_MAY', 'PAY_APR']\n",
    "num_features=['LIMIT_BAL','BILL_AMT_SEPT','BILL_AMT_AUG', 'BILL_AMT_JUL', \n",
    "              'BILL_AMT_JUN', 'BILL_AMT_MAY','BILL_AMT_APR', 'PAY_AMT_SEPT', \n",
    "              'PAY_AMT_AUG', 'PAY_AMT_JUL','PAY_AMT_JUN', 'PAY_AMT_MAY', 'PAY_AMT_APR']\n",
    "\n",
    "\n",
    "X=df.drop('Defaulter',axis=1)\n",
    "y=df['Defaulter']\n",
    "\n",
    "x_train,x_test,y_train,y_test = train_test_split(X,y,test_size=0.25, random_state=10)\n",
    "\n",
    "print(f'Training features shape :{x_train.shape}\\n'\n",
    "       f'Training output shape :{y_train.shape}\\n'\n",
    "       f'Testing features shape :{x_test.shape}\\n'\n",
    "       f'Testin output shape : {y_test.shape}')\n",
    "\n",
    "preprocessing = ColumnTransformer(transformers=[\n",
    "    #('tnf1',OneHotEncoder(drop='first',sparse=False, handle_unknown='ignore'), cat_features+ordinal_features),\n",
    "    ('tnf2',StandardScaler(),num_features+cat_features+ordinal_features)],\n",
    "    remainder='passthrough')\n",
    "\n",
    "\n",
    "x_train_arr=preprocessing.fit_transform(x_train)\n",
    "x_test_arr = preprocessing.transform(x_test)\n",
    "\n",
    "\n",
    "#train_arr = np.c_[ x_train_arr, np.array(y_train)]\n",
    "#train_arr = np.array(x_train_arr)\n",
    "y_train_arr= np.array(y_train)\n",
    "#test_arr = np.c_[x_test_arr, np.array(y_test)]\n",
    "#test_arr = np.array(x_test_arr)\n",
    "y_test_arr= np.array(y_test)\n",
    "\n",
    "train_arr= np.column_stack([x_train_arr, y_train_arr])\n",
    "test_arr= np.column_stack([x_test_arr, y_test_arr])\n",
    "path = 'artifacts/data_transformation'\n",
    "os.makedirs(path)\n",
    "\n",
    "train_file_path = os.path.join(path, \"train_arr.npy\")\n",
    "test_file_path = os.path.join(path, \"test_arr.npy\")\n",
    "\n",
    "np.save(train_file_path,train_arr)\n",
    "np.save(test_file_path,test_arr)"
   ]
  },
  {
   "cell_type": "code",
   "execution_count": null,
   "metadata": {},
   "outputs": [],
   "source": []
  },
  {
   "cell_type": "code",
   "execution_count": null,
   "metadata": {},
   "outputs": [],
   "source": []
  },
  {
   "cell_type": "code",
   "execution_count": null,
   "metadata": {},
   "outputs": [],
   "source": []
  },
  {
   "cell_type": "code",
   "execution_count": null,
   "metadata": {},
   "outputs": [],
   "source": []
  },
  {
   "cell_type": "code",
   "execution_count": null,
   "metadata": {},
   "outputs": [],
   "source": []
  },
  {
   "cell_type": "code",
   "execution_count": null,
   "metadata": {},
   "outputs": [],
   "source": []
  },
  {
   "cell_type": "code",
   "execution_count": null,
   "metadata": {},
   "outputs": [],
   "source": []
  },
  {
   "cell_type": "code",
   "execution_count": null,
   "metadata": {},
   "outputs": [],
   "source": []
  },
  {
   "cell_type": "code",
   "execution_count": null,
   "metadata": {},
   "outputs": [],
   "source": []
  }
 ],
 "metadata": {
  "kernelspec": {
   "display_name": "base",
   "language": "python",
   "name": "python3"
  },
  "language_info": {
   "codemirror_mode": {
    "name": "ipython",
    "version": 3
   },
   "file_extension": ".py",
   "mimetype": "text/x-python",
   "name": "python",
   "nbconvert_exporter": "python",
   "pygments_lexer": "ipython3",
   "version": "3.9.13"
  },
  "orig_nbformat": 4,
  "vscode": {
   "interpreter": {
    "hash": "dc07d24e2f18896857f0b2a651fe84ba40ce7b297e58d8804a308c8039f752a6"
   }
  }
 },
 "nbformat": 4,
 "nbformat_minor": 2
}
