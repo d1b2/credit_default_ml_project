{
 "cells": [
  {
   "cell_type": "code",
   "execution_count": 1,
   "metadata": {},
   "outputs": [],
   "source": [
    "from collections import namedtuple\n",
    "import os\n",
    "import json\n",
    "import pandas as pd\n",
    "import numpy as np\n",
    "from sklearn.linear_model import LogisticRegression\n",
    "from sklearn.ensemble import RandomForestClassifier\n",
    "from sklearn.neighbors import KNeighborsClassifier\n",
    "from sklearn.metrics import roc_auc_score,accuracy_score\n",
    "os.chdir(\"../\")"
   ]
  },
  {
   "cell_type": "code",
   "execution_count": 2,
   "metadata": {},
   "outputs": [
    {
     "data": {
      "text/plain": [
       "'d:\\\\projects\\\\credit_default_ml_project'"
      ]
     },
     "execution_count": 2,
     "metadata": {},
     "output_type": "execute_result"
    }
   ],
   "source": [
    "pwd"
   ]
  },
  {
   "cell_type": "code",
   "execution_count": 3,
   "metadata": {},
   "outputs": [],
   "source": [
    "ModelTrainingConfig = namedtuple(\"ModelTrainingConfig\", [\n",
    "    \"root_dir\", \n",
    "    \"base_accuracy\"   \n",
    "    \"model_df_dir\",\n",
    "    \"model_df_name\"\n",
    "])"
   ]
  },
  {
   "cell_type": "code",
   "execution_count": 9,
   "metadata": {},
   "outputs": [],
   "source": [
    "from dataclasses import dataclass\n",
    "from pathlib import Path\n",
    "\n",
    "\n",
    "@dataclass(frozen=True)\n",
    "class ModelTrainingConfig:\n",
    "    root_dir: Path\n",
    "    base_accuracy: float\n",
    "    model_df_dir: Path\n",
    "    model_df_name: str"
   ]
  },
  {
   "cell_type": "code",
   "execution_count": 10,
   "metadata": {},
   "outputs": [],
   "source": [
    "from Credit_Default.constants import *\n",
    "from Credit_Default.utils import *"
   ]
  },
  {
   "cell_type": "code",
   "execution_count": 11,
   "metadata": {},
   "outputs": [],
   "source": [
    "class ConfigurationManager:\n",
    "    def __init__(\n",
    "        self, \n",
    "        config_filepath = CONFIG_FILE_PATH,\n",
    "        schema_filepath = SCHEMA_FILE_PATH ):\n",
    "        self.config = read_yaml(config_filepath)\n",
    "        self.schema = read_yaml(schema_filepath)      \n",
    "        \n",
    "       \n",
    "\n",
    "    def get_model_training_config(self) -> ModelTrainingConfig:\n",
    "        config = self.config.model_training\n",
    "        \n",
    "        create_directories([config.root_dir,\n",
    "                            config.model_df_dir])\n",
    "\n",
    "        model_training_config = ModelTrainingConfig(\n",
    "            root_dir = Path(config.root_dir), \n",
    "            base_accuracy = float(config.base_accuracy),\n",
    "            model_df_dir = Path(config.model_df_dir),\n",
    "            model_df_name = str(config.model_df_name)  \n",
    "        )\n",
    "\n",
    "        return model_training_config"
   ]
  },
  {
   "cell_type": "code",
   "execution_count": 16,
   "metadata": {},
   "outputs": [],
   "source": [
    "import os\n",
    "\n",
    "from pathlib import Path\n",
    "import pandas as pd\n",
    "import numpy as np\n",
    "from Credit_Default.entity import *\n",
    "\n",
    "class ModelTraining:\n",
    "    def __init__(self, config: ModelTrainingConfig):\n",
    "        self.config = config\n",
    "        self.train_array = np.load(TRAIN_ARRAY_FILE_PATH)\n",
    "        self.test_array = np.load(TEST_ARRAY_FILE_PATH)\n",
    "        self.model_name=[]\n",
    "        self.accuracy_score=[]\n",
    "        self.auc_score=[]\n",
    "\n",
    "    def logistic_regression_model(self):\n",
    "        try:\n",
    "            model=LogisticRegression()\n",
    "            self.model_name.append('LogisticRegression')\n",
    "            score=model_score(self.train_array,self.test_array,model)\n",
    "            self.accuracy_score.append(score[0])\n",
    "            self.auc_score.append(score[1])\n",
    "        except Exception as e:\n",
    "            raise e\n",
    "\n",
    "    def knn_classifier_model(self):\n",
    "        try:\n",
    "            model=KNeighborsClassifier(n_neighbors=3)\n",
    "            self.model_name.append('KNN_Classifier')\n",
    "            score=model_score(self.train_array,self.test_array,model)\n",
    "            self.accuracy_score.append(score[0])\n",
    "            self.auc_score.append(score[1])\n",
    "        except Exception as e:\n",
    "            raise e\n",
    "    \n",
    "\n",
    "    def random_forest_classifier_model(self):\n",
    "        try:\n",
    "            model=RandomForestClassifier()\n",
    "            self.model_name.append('Random_Forest_Classifier')\n",
    "            score=model_score(self.train_array,self.test_array,model)\n",
    "            self.accuracy_score.append(score[0])\n",
    "            self.auc_score.append(score[1])\n",
    "        except Exception as e:\n",
    "            raise e\n",
    "    \n",
    "    def model_dataframe(self):\n",
    "        try:\n",
    "            models = pd.DataFrame({\n",
    "                'Model' : self.model_name,    \n",
    "                'Accucracy_score' : self.accuracy_score,\n",
    "                'ROC_AUC_Score' : self.auc_score})\n",
    "            models['Above_Base_Accuracy']= [True if  models['Accucracy_score'][i] >= self.config.base_accuracy  else False for i in range(len(models))]\n",
    "            \n",
    "            model_df_filepath = os.path.join(self.config.model_df_dir,self.config.model_df_name)\n",
    "\n",
    "            models.to_csv(model_df_filepath,index=False)\n",
    "        \n",
    "        except Exception as e:\n",
    "            raise e"
   ]
  },
  {
   "cell_type": "code",
   "execution_count": 17,
   "metadata": {},
   "outputs": [
    {
     "name": "stderr",
     "output_type": "stream",
     "text": [
      "c:\\Users\\HP\\anaconda3\\lib\\site-packages\\sklearn\\linear_model\\_logistic.py:814: ConvergenceWarning: lbfgs failed to converge (status=1):\n",
      "STOP: TOTAL NO. of ITERATIONS REACHED LIMIT.\n",
      "\n",
      "Increase the number of iterations (max_iter) or scale the data as shown in:\n",
      "    https://scikit-learn.org/stable/modules/preprocessing.html\n",
      "Please also refer to the documentation for alternative solver options:\n",
      "    https://scikit-learn.org/stable/modules/linear_model.html#logistic-regression\n",
      "  n_iter_i = _check_optimize_result(\n",
      "c:\\Users\\HP\\anaconda3\\lib\\site-packages\\sklearn\\neighbors\\_classification.py:228: FutureWarning: Unlike other reduction functions (e.g. `skew`, `kurtosis`), the default behavior of `mode` typically preserves the axis it acts along. In SciPy 1.11.0, this behavior will change: the default value of `keepdims` will become False, the `axis` over which the statistic is taken will be eliminated, and the value None will no longer be accepted. Set `keepdims` to True or False to avoid this warning.\n",
      "  mode, _ = stats.mode(_y[neigh_ind, k], axis=1)\n"
     ]
    }
   ],
   "source": [
    "try:\n",
    "    config = ConfigurationManager()\n",
    "    model_training_config= config.get_model_training_config()\n",
    "    model_training = ModelTraining(config=model_training_config) \n",
    "    model_training.logistic_regression_model()\n",
    "    model_training.knn_classifier_model()\n",
    "    model_training.random_forest_classifier_model()\n",
    "    model_training.model_dataframe()\n",
    " \n",
    "\n",
    "\n",
    "except Exception as e:\n",
    "    raise e"
   ]
  },
  {
   "cell_type": "code",
   "execution_count": null,
   "metadata": {},
   "outputs": [],
   "source": []
  }
 ],
 "metadata": {
  "kernelspec": {
   "display_name": "base",
   "language": "python",
   "name": "python3"
  },
  "language_info": {
   "codemirror_mode": {
    "name": "ipython",
    "version": 3
   },
   "file_extension": ".py",
   "mimetype": "text/x-python",
   "name": "python",
   "nbconvert_exporter": "python",
   "pygments_lexer": "ipython3",
   "version": "3.9.13"
  },
  "orig_nbformat": 4,
  "vscode": {
   "interpreter": {
    "hash": "dc07d24e2f18896857f0b2a651fe84ba40ce7b297e58d8804a308c8039f752a6"
   }
  }
 },
 "nbformat": 4,
 "nbformat_minor": 2
}
