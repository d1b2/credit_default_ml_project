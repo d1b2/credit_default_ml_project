{
 "cells": [
  {
   "cell_type": "code",
   "execution_count": 1,
   "metadata": {},
   "outputs": [],
   "source": [
    "from collections import namedtuple\n",
    "import os\n",
    "\n",
    "os.chdir(\"../\")"
   ]
  },
  {
   "cell_type": "code",
   "execution_count": 2,
   "metadata": {},
   "outputs": [
    {
     "data": {
      "text/plain": [
       "'d:\\\\projects\\\\credit_default_ml_project'"
      ]
     },
     "execution_count": 2,
     "metadata": {},
     "output_type": "execute_result"
    }
   ],
   "source": [
    "pwd"
   ]
  },
  {
   "cell_type": "code",
   "execution_count": 3,
   "metadata": {},
   "outputs": [],
   "source": [
    "DataValidationConfig = namedtuple(\"DataValidationConfig\", [\n",
    "    \"root_dir\",    \n",
    "    \"report_dir\",\n",
    "    \"report_file_name\",\n",
    "    \"report_page_file_name\"\n",
    "])"
   ]
  },
  {
   "cell_type": "code",
   "execution_count": 4,
   "metadata": {},
   "outputs": [],
   "source": [
    "from dataclasses import dataclass\n",
    "from pathlib import Path\n",
    "\n",
    "\n",
    "@dataclass(frozen=True)\n",
    "class DataValidationConfig:\n",
    "    root_dir: Path\n",
    "    report_dir: Path\n",
    "    report_file_name: str\n",
    "    report_page_file_name: str"
   ]
  },
  {
   "cell_type": "code",
   "execution_count": 5,
   "metadata": {},
   "outputs": [
    {
     "ename": "ModuleNotFoundError",
     "evalue": "No module named 'yaml'",
     "output_type": "error",
     "traceback": [
      "\u001b[1;31m---------------------------------------------------------------------------\u001b[0m",
      "\u001b[1;31mModuleNotFoundError\u001b[0m                       Traceback (most recent call last)",
      "Cell \u001b[1;32mIn[5], line 2\u001b[0m\n\u001b[0;32m      1\u001b[0m \u001b[39mfrom\u001b[39;00m \u001b[39mCredit_Default\u001b[39;00m\u001b[39m.\u001b[39;00m\u001b[39mconstants\u001b[39;00m \u001b[39mimport\u001b[39;00m \u001b[39m*\u001b[39m\n\u001b[1;32m----> 2\u001b[0m \u001b[39mfrom\u001b[39;00m \u001b[39mCredit_Default\u001b[39;00m\u001b[39m.\u001b[39;00m\u001b[39mutils\u001b[39;00m \u001b[39mimport\u001b[39;00m \u001b[39m*\u001b[39m\n",
      "File \u001b[1;32mD:\\projects\\credit_default_ml_project\\src\\Credit_Default\\utils\\__init__.py:1\u001b[0m\n\u001b[1;32m----> 1\u001b[0m \u001b[39mfrom\u001b[39;00m \u001b[39mCredit_Default\u001b[39;00m\u001b[39m.\u001b[39;00m\u001b[39mutils\u001b[39;00m\u001b[39m.\u001b[39;00m\u001b[39mcommon\u001b[39;00m \u001b[39mimport\u001b[39;00m \u001b[39m*\u001b[39m\n",
      "File \u001b[1;32mD:\\projects\\credit_default_ml_project\\src\\Credit_Default\\utils\\common.py:3\u001b[0m\n\u001b[0;32m      1\u001b[0m \u001b[39mimport\u001b[39;00m \u001b[39mos\u001b[39;00m\n\u001b[0;32m      2\u001b[0m \u001b[39mfrom\u001b[39;00m \u001b[39mbox\u001b[39;00m\u001b[39m.\u001b[39;00m\u001b[39mexceptions\u001b[39;00m \u001b[39mimport\u001b[39;00m BoxValueError\n\u001b[1;32m----> 3\u001b[0m \u001b[39mimport\u001b[39;00m \u001b[39myaml\u001b[39;00m\n\u001b[0;32m      4\u001b[0m \u001b[39mfrom\u001b[39;00m \u001b[39mCredit_Default\u001b[39;00m \u001b[39mimport\u001b[39;00m logger\n\u001b[0;32m      5\u001b[0m \u001b[39mimport\u001b[39;00m \u001b[39mjson\u001b[39;00m\n",
      "\u001b[1;31mModuleNotFoundError\u001b[0m: No module named 'yaml'"
     ]
    }
   ],
   "source": [
    "from Credit_Default.constants import *\n",
    "from Credit_Default.utils import *"
   ]
  },
  {
   "cell_type": "code",
   "execution_count": 6,
   "metadata": {},
   "outputs": [
    {
     "ename": "NameError",
     "evalue": "name 'CONFIG_FILE_PATH' is not defined",
     "output_type": "error",
     "traceback": [
      "\u001b[1;31m---------------------------------------------------------------------------\u001b[0m",
      "\u001b[1;31mNameError\u001b[0m                                 Traceback (most recent call last)",
      "Cell \u001b[1;32mIn[6], line 1\u001b[0m\n\u001b[1;32m----> 1\u001b[0m \u001b[39mclass\u001b[39;00m \u001b[39mConfigurationManager\u001b[39;00m:\n\u001b[0;32m      2\u001b[0m     \u001b[39mdef\u001b[39;00m \u001b[39m__init__\u001b[39m(\n\u001b[0;32m      3\u001b[0m         \u001b[39mself\u001b[39m, \n\u001b[0;32m      4\u001b[0m         config_filepath \u001b[39m=\u001b[39m CONFIG_FILE_PATH,\n\u001b[0;32m      5\u001b[0m         schema_filepath \u001b[39m=\u001b[39m SCHEMA_FILE_PATH ):\n\u001b[0;32m      6\u001b[0m         \u001b[39mself\u001b[39m\u001b[39m.\u001b[39mconfig \u001b[39m=\u001b[39m read_yaml(config_filepath)\n",
      "Cell \u001b[1;32mIn[6], line 4\u001b[0m, in \u001b[0;36mConfigurationManager\u001b[1;34m()\u001b[0m\n\u001b[0;32m      1\u001b[0m \u001b[39mclass\u001b[39;00m \u001b[39mConfigurationManager\u001b[39;00m:\n\u001b[0;32m      2\u001b[0m     \u001b[39mdef\u001b[39;00m \u001b[39m__init__\u001b[39m(\n\u001b[0;32m      3\u001b[0m         \u001b[39mself\u001b[39m, \n\u001b[1;32m----> 4\u001b[0m         config_filepath \u001b[39m=\u001b[39m CONFIG_FILE_PATH,\n\u001b[0;32m      5\u001b[0m         schema_filepath \u001b[39m=\u001b[39m SCHEMA_FILE_PATH ):\n\u001b[0;32m      6\u001b[0m         \u001b[39mself\u001b[39m\u001b[39m.\u001b[39mconfig \u001b[39m=\u001b[39m read_yaml(config_filepath)\n\u001b[0;32m      7\u001b[0m         \u001b[39mself\u001b[39m\u001b[39m.\u001b[39mschema \u001b[39m=\u001b[39m read_yaml(schema_filepath)\n",
      "\u001b[1;31mNameError\u001b[0m: name 'CONFIG_FILE_PATH' is not defined"
     ]
    }
   ],
   "source": [
    "class ConfigurationManager:\n",
    "    def __init__(\n",
    "        self, \n",
    "        config_filepath = CONFIG_FILE_PATH,\n",
    "        schema_filepath = SCHEMA_FILE_PATH ):\n",
    "        self.config = read_yaml(config_filepath)\n",
    "        self.schema = read_yaml(schema_filepath)      \n",
    "        \n",
    "       \n",
    "\n",
    "    def get_data_validation_config(self) -> DataValidationConfig:\n",
    "        config = self.config.data_validation\n",
    "        \n",
    "        create_directories([config.root_dir,\n",
    "                            config.report_dir])\n",
    "\n",
    "        data_validation_config = DataValidationConfig(\n",
    "            root_dir=Path(config.root_dir),           \n",
    "            report_dir=Path(config.report_dir),\n",
    "            report_file_name=config.report_file_name,\n",
    "            report_page_file_name = config.report_page_file_name\n",
    "        )\n",
    "\n",
    "        return data_validation_config"
   ]
  },
  {
   "cell_type": "code",
   "execution_count": 8,
   "metadata": {},
   "outputs": [
    {
     "ename": "ModuleNotFoundError",
     "evalue": "No module named 'evidently'",
     "output_type": "error",
     "traceback": [
      "\u001b[1;31m---------------------------------------------------------------------------\u001b[0m",
      "\u001b[1;31mModuleNotFoundError\u001b[0m                       Traceback (most recent call last)",
      "Cell \u001b[1;32mIn[8], line 1\u001b[0m\n\u001b[1;32m----> 1\u001b[0m \u001b[39mimport\u001b[39;00m \u001b[39mevidently\u001b[39;00m\n\u001b[0;32m      2\u001b[0m \u001b[39mfrom\u001b[39;00m \u001b[39mevidently\u001b[39;00m\u001b[39m.\u001b[39;00m\u001b[39mmodel_profile\u001b[39;00m \u001b[39mimport\u001b[39;00m Profile\n\u001b[0;32m      3\u001b[0m \u001b[39mfrom\u001b[39;00m \u001b[39mevidently\u001b[39;00m\u001b[39m.\u001b[39;00m\u001b[39mmodel_profile\u001b[39;00m\u001b[39m.\u001b[39;00m\u001b[39msections\u001b[39;00m \u001b[39mimport\u001b[39;00m DataDriftProfileSection\n",
      "\u001b[1;31mModuleNotFoundError\u001b[0m: No module named 'evidently'"
     ]
    }
   ],
   "source": [
    "import evidently\n",
    "from evidently.model_profile import Profile\n",
    "from evidently.model_profile.sections import DataDriftProfileSection\n",
    "from evidently.dashboard import Dashboard\n",
    "from evidently.dashboard.tabs import DataDriftTab"
   ]
  },
  {
   "cell_type": "code",
   "execution_count": 57,
   "metadata": {},
   "outputs": [],
   "source": [
    "import os\n",
    "\n",
    "from pathlib import Path\n",
    "import pandas as pd\n",
    "import numpy as np\n",
    "from Credit_Default.entity import *\n",
    "\n",
    "\n",
    "class DataValidation:\n",
    "    def __init__(self, config: DataValidationConfig):\n",
    "        self.config = config\n",
    "        self.train = pd.read_csv(TRAIN_FILE_PATH)\n",
    "        self.test = pd.read_csv(TEST_FILE_PATH)\n",
    "        self.schema = read_yaml(SCHEMA_FILE_PATH)\n",
    "\n",
    "  \n",
    "    def validate_number_of_columns(self):\n",
    "        try:\n",
    "            validation_status = False\n",
    "            number_of_columns = len(self.schema[\"columns\"])\n",
    "            logger.info(f\"Required number of columns: {number_of_columns}\")\n",
    "            logger.info(f\"Train Data has columns: {len(self.train.columns)}\")\n",
    "            logger.info(f\"Test Data has columns: {len(self.test.columns)}\")\n",
    "            \n",
    "            if len(self.train.columns)==number_of_columns and len(self.test.columns)==number_of_columns:\n",
    "                validation_status = True\n",
    "            logger.info(f\"Validation status of number of columns : {validation_status}\")  \n",
    "        except Exception as e:\n",
    "            raise e\n",
    "    \n",
    "    def is_numerical_column_exist(self):\n",
    "        try:\n",
    "            numerical_columns = list(self.schema[\"numerical_columns\"].split(\" \"))\n",
    "            train_columns = self.train.columns\n",
    "            test_columns = self.test.columns\n",
    "            numerical_column_present = True\n",
    "            missing_numerical_train_columns = []\n",
    "            missing_numerical_test_columns = []\n",
    "            for num_column in numerical_columns:\n",
    "                if num_column not in train_columns:\n",
    "                    numerical_column_present=False\n",
    "                    missing_numerical_train_columns.append(num_column)\n",
    "                if num_column not in test_columns:\n",
    "                    numerical_column_present=False\n",
    "                    missing_numerical_test_columns.append(num_column)\n",
    "            if len(missing_numerical_train_columns)>0:\n",
    "                logger.info(f\"Missing numerical columns in train dataset: {missing_numerical_train_columns}\")\n",
    "            if len(missing_numerical_test_columns)>0:\n",
    "                logger.info(f\"Missing numerical columns in test dataset: {missing_numerical_test_columns}\")\n",
    "            logger.info(f\"Validation status of numberical of columns : {numerical_column_present}\")\n",
    "        except Exception as e:\n",
    "            raise e\n",
    "\n",
    "    def validate_min_max_value(self):\n",
    "        try:\n",
    "            min_columns = self.schema[\"min_of_column\"]\n",
    "            max_columns = self.schema[\"max_of_column\"]\n",
    "            min_max_status= True\n",
    "            col = ['SEX','EDUCATION','MARRIAGE']\n",
    "            for i in col:\n",
    "                if self.train[i].min() != min_columns[i] or self.test[i].min() != min_columns[i]:\n",
    "                    min_max_status= False\n",
    "                    logger.info(f\"Min value of {i} column is not valid\")\n",
    "                if self.train[i].max() != max_columns[i] and self.test[i].max() != max_columns[i]:\n",
    "                    min_max_status= False\n",
    "                    logger.info(f\"Max value of {i} column is not validated\")\n",
    "            logger.info(f\"Validation status of Min and Max values of {col} columns : {min_max_status}\")\n",
    "        except Exception as e:\n",
    "            raise e\n",
    "\n",
    "    def data_drift_report_json(self):\n",
    "        try:\n",
    "            profile = Profile(sections=[DataDriftProfileSection()])           \n",
    "\n",
    "            profile.calculate(self.train,self.test)\n",
    "\n",
    "            report =json.loads(profile.json())\n",
    "            report_file_path = os.path.join(self.config.report_dir,self.config.report_file_name)\n",
    "           \n",
    "            with open(report_file_path,\"w\") as report_file:\n",
    "                json.dump(report, report_file, indent=4)\n",
    "            logger.info(f\"Data drift report in .json format added.\")\n",
    "        except Exception as e:\n",
    "            raise e\n",
    "\n",
    "    def data_drift_report_html_page(self):\n",
    "        try:\n",
    "            dashboard = Dashboard(tabs=[DataDriftTab()])            \n",
    "            dashboard.calculate(self.train,self.test)\n",
    "            report_page_file_path = os.path.join(self.config.report_dir,self.config.report_page_file_name)\n",
    "            dashboard.save(report_page_file_path)\n",
    "            logger.info(f\"Data drift dashboard report in .html format added.\")\n",
    "        except Exception as e:\n",
    "            raise e\n"
   ]
  },
  {
   "cell_type": "code",
   "execution_count": null,
   "metadata": {},
   "outputs": [],
   "source": []
  },
  {
   "cell_type": "code",
   "execution_count": 58,
   "metadata": {},
   "outputs": [],
   "source": [
    "try:\n",
    "    config = ConfigurationManager()\n",
    "    data_validation_config = config.get_data_validation_config()\n",
    "    data_validation = DataValidation(config=data_validation_config)   \n",
    "    data_validation.validate_number_of_columns()\n",
    "    data_validation.is_numerical_column_exist()\n",
    "    data_validation.validate_min_max_value()\n",
    "    data_validation.data_drift_report_json() \n",
    "    data_validation.data_drift_report_html_page()\n",
    "\n",
    "except Exception as e:\n",
    "    raise e"
   ]
  },
  {
   "cell_type": "code",
   "execution_count": null,
   "metadata": {},
   "outputs": [],
   "source": []
  }
 ],
 "metadata": {
  "kernelspec": {
   "display_name": "Python 3",
   "language": "python",
   "name": "python3"
  },
  "language_info": {
   "codemirror_mode": {
    "name": "ipython",
    "version": 3
   },
   "file_extension": ".py",
   "mimetype": "text/x-python",
   "name": "python",
   "nbconvert_exporter": "python",
   "pygments_lexer": "ipython3",
   "version": "3.8.15"
  },
  "orig_nbformat": 4,
  "vscode": {
   "interpreter": {
    "hash": "77aaa7bf057528e6a63757e19da682a67c1d80ed92ca1b2f781785b37f553fe5"
   }
  }
 },
 "nbformat": 4,
 "nbformat_minor": 2
}
