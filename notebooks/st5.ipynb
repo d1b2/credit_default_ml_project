{
 "cells": [
  {
   "cell_type": "code",
   "execution_count": 1,
   "metadata": {},
   "outputs": [],
   "source": [
    "from collections import namedtuple\n",
    "import os\n",
    "import json\n",
    "import pandas as pd\n",
    "import numpy as np\n",
    "from sklearn.ensemble import RandomForestClassifier\n",
    "from sklearn.metrics import roc_auc_score,accuracy_score,mean_squared_error\n",
    "from sklearn.model_selection import cross_val_score\n",
    "from sklearn.model_selection import GridSearchCV\n",
    "os.chdir(\"../\")"
   ]
  },
  {
   "cell_type": "code",
   "execution_count": 2,
   "metadata": {},
   "outputs": [
    {
     "data": {
      "text/plain": [
       "'d:\\\\projects\\\\credit_default_ml_project'"
      ]
     },
     "execution_count": 2,
     "metadata": {},
     "output_type": "execute_result"
    }
   ],
   "source": [
    "pwd"
   ]
  },
  {
   "cell_type": "code",
   "execution_count": 3,
   "metadata": {},
   "outputs": [],
   "source": [
    "ModelTuningConfig = namedtuple(\"ModelTuningConfig\", [\n",
    "    \"root_dir\",  \n",
    "    \"model_scores\",\n",
    "    \"model_name\"\n",
    "])"
   ]
  },
  {
   "cell_type": "code",
   "execution_count": 4,
   "metadata": {},
   "outputs": [],
   "source": [
    "from dataclasses import dataclass\n",
    "from pathlib import Path\n",
    "\n",
    "\n",
    "@dataclass(frozen=True)\n",
    "class ModelTuningConfig:\n",
    "    root_dir: Path\n",
    "    model_scores: str\n",
    "    model_name: str"
   ]
  },
  {
   "cell_type": "code",
   "execution_count": 5,
   "metadata": {},
   "outputs": [],
   "source": [
    "from Credit_Default.constants import *\n",
    "from Credit_Default.utils import *"
   ]
  },
  {
   "cell_type": "code",
   "execution_count": 6,
   "metadata": {},
   "outputs": [],
   "source": [
    "class ConfigurationManager:\n",
    "    def __init__(\n",
    "        self, \n",
    "        config_filepath = CONFIG_FILE_PATH,\n",
    "        schema_filepath = SCHEMA_FILE_PATH ):\n",
    "        self.config = read_yaml(config_filepath) \n",
    "        self.schema = read_yaml(schema_filepath)       \n",
    "        \n",
    "       \n",
    "\n",
    "    def get_model_tuning_config(self) -> ModelTuningConfig:\n",
    "        config = self.config.model_tuning\n",
    "        \n",
    "        create_directories([config.root_dir])\n",
    "\n",
    "        model_tuning_config = ModelTuningConfig(\n",
    "            root_dir = Path(config.root_dir), \n",
    "            model_scores = str(config.model_scores),\n",
    "            model_name = str(config.model_name)\n",
    "        )\n",
    "\n",
    "        return model_tuning_config"
   ]
  },
  {
   "cell_type": "code",
   "execution_count": 7,
   "metadata": {},
   "outputs": [],
   "source": [
    "import os\n",
    "\n",
    "from pathlib import Path\n",
    "import pandas as pd\n",
    "import numpy as np\n",
    "from Credit_Default.entity import *\n",
    "import pickle\n",
    "\n",
    "class ModelTuning:\n",
    "    def __init__(self, config: ModelTuningConfig):\n",
    "        self.config = config\n",
    "        self.train_array = np.load(TRAIN_ARRAY_FILE_PATH)\n",
    "        self.test_array = np.load(TEST_ARRAY_FILE_PATH)\n",
    "        self.model_list = pd.read_csv(MODEL_LIST_FILE_PATH)\n",
    "\n",
    "\n",
    "    def best_model_csv(self):\n",
    "        try:\n",
    "            a=self.model_list[self.model_list.Accucracy_score == self.model_list.Accucracy_score.max()].Model.values[0]\n",
    "            print(f\"Best Model among model csv : {a}\")\n",
    "        except Exception as e:\n",
    "            raise e\n",
    "\n",
    "    def model_tuning_and_saving_parameters(self):\n",
    "        try:\n",
    "            rfc = RandomForestClassifier()\n",
    "            parameters = {\n",
    "                        \"n_estimators\":[5,10,50,100,120],\n",
    "                        \"max_depth\":[2,4,8,16,18],\n",
    "                        \"criterion\":['gini','entropy']}\n",
    "            x_train,y_train = self.train_array[:,:-1],self.train_array[:,-1]\n",
    "            x_test,y_test = self.test_array[:,:-1],self.test_array[:,-1]\n",
    "            CV_rfc = GridSearchCV(estimator=rfc, param_grid=parameters, cv= 5)\n",
    "            CV_rfc.fit(x_train, y_train)\n",
    "            write_yaml(PARAMS_FILE_PATH ,CV_rfc.best_params_)\n",
    "        except Exception as e:\n",
    "            raise e\n",
    "    \n",
    "\n",
    "    def saving_model_scores(self):\n",
    "        try:\n",
    "            param=read_yaml(PARAMS_FILE_PATH)\n",
    "            model=RandomForestClassifier(criterion=param['criterion'],\n",
    "                                        max_depth=param['max_depth'],\n",
    "                                        n_estimators=param['n_estimators'])\n",
    "            score=model_score(self.train_array,self.test_array,model)\n",
    "            \n",
    "            dict1={'Model' : 'Random_Forest_Classifier',\n",
    "            'Accucracy_score' : score[0],\n",
    "            'ROC_AUC_Score' : score[1],\n",
    "            'MSE': score[-1]} \n",
    "\n",
    "            model_score_file_path = os.path.join(self.config.root_dir,self.config.model_scores)\n",
    "           \n",
    "            with open(model_score_file_path,\"w\") as report_file:\n",
    "                json.dump(dict1, report_file, indent=4)\n",
    "            logger.info(f\"Tuned Model score in .json format added.\")\n",
    "        except Exception as e:\n",
    "            raise e\n",
    "    \n",
    "    def saving_model(self):\n",
    "        try:\n",
    "            x_train,y_train = self.train_array[:,:-1],self.train_array[:,-1]\n",
    "            x_test,y_test = self.test_array[:,:-1],self.test_array[:,-1]\n",
    "            param=read_yaml(PARAMS_FILE_PATH)\n",
    "            model=RandomForestClassifier(criterion=param['criterion'],\n",
    "                                        max_depth=param['max_depth'],\n",
    "                                        n_estimators=param['n_estimators'])\n",
    "            model.fit(x_train,y_train)            \n",
    "            model_filepath = os.path.join(self.config.root_dir,self.config.model_name)\n",
    "            pickle.dump(model, open(model_filepath, 'wb'))\n",
    "            logger.info(f\"Tuned Model pickle file saved.\")\n",
    "        \n",
    "        except Exception as e:\n",
    "            raise e"
   ]
  },
  {
   "cell_type": "code",
   "execution_count": 12,
   "metadata": {},
   "outputs": [
    {
     "name": "stdout",
     "output_type": "stream",
     "text": [
      "Best Model among model csv : Random_Forest_Classifier\n"
     ]
    }
   ],
   "source": [
    "try:\n",
    "    config = ConfigurationManager()\n",
    "    model_tuning_config = config.get_model_tuning_config()\n",
    "    model_tuning = ModelTuning(config=model_tuning_config) \n",
    "    model_tuning.best_model_csv()\n",
    "    model_tuning.model_tuning_and_saving_parameters()\n",
    "    model_tuning.saving_model_scores()\n",
    "    model_tuning.saving_model()\n",
    " \n",
    "\n",
    "\n",
    "except Exception as e:\n",
    "    raise e"
   ]
  },
  {
   "cell_type": "code",
   "execution_count": null,
   "metadata": {},
   "outputs": [],
   "source": []
  },
  {
   "cell_type": "code",
   "execution_count": null,
   "metadata": {},
   "outputs": [],
   "source": []
  }
 ],
 "metadata": {
  "kernelspec": {
   "display_name": "base",
   "language": "python",
   "name": "python3"
  },
  "language_info": {
   "codemirror_mode": {
    "name": "ipython",
    "version": 3
   },
   "file_extension": ".py",
   "mimetype": "text/x-python",
   "name": "python",
   "nbconvert_exporter": "python",
   "pygments_lexer": "ipython3",
   "version": "3.9.13"
  },
  "orig_nbformat": 4,
  "vscode": {
   "interpreter": {
    "hash": "dc07d24e2f18896857f0b2a651fe84ba40ce7b297e58d8804a308c8039f752a6"
   }
  }
 },
 "nbformat": 4,
 "nbformat_minor": 2
}
