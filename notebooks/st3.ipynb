{
 "cells": [
  {
   "cell_type": "code",
   "execution_count": 1,
   "metadata": {},
   "outputs": [],
   "source": [
    "from collections import namedtuple\n",
    "import os\n",
    "import pandas as pd\n",
    "import numpy as np\n",
    "import matplotlib.pyplot as plt\n",
    "import seaborn as sns\n",
    "from imblearn.over_sampling import SMOTE\n",
    "from sklearn.compose import ColumnTransformer\n",
    "from sklearn.preprocessing import OneHotEncoder,StandardScaler\n",
    "os.chdir(\"../\")"
   ]
  },
  {
   "cell_type": "code",
   "execution_count": 2,
   "metadata": {},
   "outputs": [
    {
     "data": {
      "text/plain": [
       "'d:\\\\projects\\\\credit_default_ml_project'"
      ]
     },
     "execution_count": 2,
     "metadata": {},
     "output_type": "execute_result"
    }
   ],
   "source": [
    "pwd"
   ]
  },
  {
   "cell_type": "code",
   "execution_count": 3,
   "metadata": {},
   "outputs": [],
   "source": [
    "DataPreparationConfig = namedtuple(\"DataPreparationConfig\", [\n",
    "    \"root_dir\",    \n",
    "    \"clean_csv_dir\",\n",
    "    \"clean_np_dir\"\n",
    "])"
   ]
  },
  {
   "cell_type": "code",
   "execution_count": 4,
   "metadata": {},
   "outputs": [],
   "source": [
    "from dataclasses import dataclass\n",
    "from pathlib import Path\n",
    "\n",
    "\n",
    "@dataclass(frozen=True)\n",
    "class DataPreparationConfig:\n",
    "    root_dir: Path\n",
    "    clean_csv_dir: Path\n",
    "    clean_np_dir: Path"
   ]
  },
  {
   "cell_type": "code",
   "execution_count": 5,
   "metadata": {},
   "outputs": [],
   "source": [
    "from Credit_Default.constants import *\n",
    "from Credit_Default.utils import *"
   ]
  },
  {
   "cell_type": "code",
   "execution_count": 6,
   "metadata": {},
   "outputs": [],
   "source": [
    "class ConfigurationManager:\n",
    "    def __init__(\n",
    "        self, \n",
    "        config_filepath = CONFIG_FILE_PATH,\n",
    "        schema_filepath = SCHEMA_FILE_PATH ):\n",
    "        self.config = read_yaml(config_filepath)\n",
    "        self.schema = read_yaml(schema_filepath)      \n",
    "        \n",
    "       \n",
    "\n",
    "    def get_data_preparation_config(self) -> DataPreparationConfig:\n",
    "        config = self.config.data_preparation\n",
    "        \n",
    "        create_directories([config.root_dir,\n",
    "                            config.clean_csv_dir,\n",
    "                            config.clean_np_dir])\n",
    "\n",
    "        data_preparation_config = DataPreparationConfig(\n",
    "            root_dir = Path(config.root_dir),           \n",
    "            clean_csv_dir = Path(config.clean_csv_dir),\n",
    "            clean_np_dir = Path(config.clean_np_dir)\n",
    "        )\n",
    "\n",
    "        return data_preparation_config"
   ]
  },
  {
   "cell_type": "code",
   "execution_count": 9,
   "metadata": {},
   "outputs": [],
   "source": [
    "import os\n",
    "\n",
    "from pathlib import Path\n",
    "import pandas as pd\n",
    "import numpy as np\n",
    "from Credit_Default.entity import *\n",
    "\n",
    "class DataPreparation:\n",
    "    def __init__(self, config: DataPreparationConfig):\n",
    "        self.config = config\n",
    "        self.train = pd.read_csv(TRAIN_FILE_PATH)\n",
    "        self.test = pd.read_csv(TEST_FILE_PATH)\n",
    "        self.clean_schema = read_yaml(SCHEMA_CLEAN_FILE_PATH)\n",
    "        \n",
    "    def null_checks(self):\n",
    "        try:\n",
    "            null_status = True\n",
    "            if self.train.isnull().sum().sum()==0 and self.train.isnull().sum().sum()==0:\n",
    "                null_status=False\n",
    "            logger.info(f\"Null values present in train and test dataset : {null_status}\")\n",
    "        except Exception as e:\n",
    "            raise e\n",
    "    def clean_education(self):\n",
    "        try:\n",
    "            #a = (self.train['EDUCATION'] == 5) | (self.train['EDUCATION'] == 6) | (self.train['EDUCATION'] == 0)\n",
    "            self.train.loc[(self.train['EDUCATION'] == 5) | (self.train['EDUCATION'] == 6) | (self.train['EDUCATION'] == 0), 'EDUCATION'] = 4\n",
    "           # b = (self.test['EDUCATION'] == 5) | (self.test['EDUCATION'] == 6) | (self.test['EDUCATION'] == 0)\n",
    "            self.test.loc[(self.test['EDUCATION'] == 5) | (self.test['EDUCATION'] == 6) | (self.test['EDUCATION'] == 0), 'EDUCATION'] = 4\n",
    "            logger.info(f\"EDUCATION column cleaned in train and test dataset.\")\n",
    "        except Exception as e:\n",
    "            raise e\n",
    "\n",
    "    def clean_marriage(self):\n",
    "        try:\n",
    "            self.train.loc[(self.train['MARRIAGE'] == 0), 'MARRIAGE'] = 3\n",
    "            self.test.loc[(self.test['MARRIAGE'] == 0), 'MARRIAGE'] = 3\n",
    "            logger.info(f\"MARRIAGE column cleaned in train and test dataset.\")\n",
    "        except Exception as e:\n",
    "            raise e\n",
    "\n",
    "    def rename_target(self):\n",
    "        try:\n",
    "            self.train.rename(columns={'default.payment.next.month':'DEFAULTER'},inplace=True)\n",
    "            self.test.rename(columns={'default.payment.next.month':'DEFAULTER'},inplace=True)\n",
    "            logger.info(f\"Target column renamed to DEFAULTER in train and test dataset.\")\n",
    "        except Exception as e:\n",
    "            raise e\n",
    "\n",
    "    def smote_resampling(self):\n",
    "        try:\n",
    "            smote = SMOTE()\n",
    "            train_df,test_df=self.train,self.test\n",
    "            # fit predictor and target variable\n",
    "            x_train_smote, y_train_smote = smote.fit_resample(train_df.iloc[:,0:-1], train_df['DEFAULTER'])\n",
    "            x_test_smote, y_test_smote = smote.fit_resample(test_df.iloc[:,0:-1], test_df['DEFAULTER'])\n",
    "\n",
    "            logger.info(f'Original Train dataset shape: {len(train_df)}|Resampled Train dataset shape :{len(y_train_smote)}')\n",
    "            #print('Resampled dataset shape', len(y_train_smote))\n",
    "            logger.info(f'Original Test dataset shape: {len(test_df)}|Resampled Test dataset shape :{len(y_test_smote)}')\n",
    "\n",
    "            #print('Original dataset shape', len(test_df))\n",
    "            #print('Resampled dataset shape', len(y_test_smote))\n",
    "\n",
    "            columns = list(train_df.columns)\n",
    "            columns.pop()\n",
    "\n",
    "            self.train = pd.DataFrame(x_train_smote, columns=columns)\n",
    "            self.train['DEFAULTER'] = y_train_smote\n",
    "            self.train.drop(['ID','AGE'], axis=1,inplace=True)\n",
    "            self.test = pd.DataFrame(x_test_smote, columns=columns)\n",
    "            self.test['DEFAULTER'] = y_test_smote\n",
    "            self.test.drop(['ID','AGE'], axis=1,inplace=True)\n",
    "            logger.info(f'ID and AGE column deleted from train and test dataset.')\n",
    "        except Exception as e:\n",
    "            raise e\n",
    "\n",
    "    def saving_resampled_and_clean_csv(self):\n",
    "        try:\n",
    "            train_file_path = os.path.join(self.config.clean_csv_dir,\"train.csv\")\n",
    "            test_file_path = os.path.join(self.config.clean_csv_dir,\"test.csv\")\n",
    "            self.train.to_csv(train_file_path,index=False)\n",
    "            self.test.to_csv(test_file_path,index=False)\n",
    "            logger.info(f'Saving clean train and test csv files')\n",
    "            pass\n",
    "        except Exception as e:\n",
    "            raise e\n",
    "\n",
    "    def saving_clean_np_array(self):\n",
    "        try:\n",
    "            num_features = list(self.clean_schema[\"numerical_features\"].split(\" \"))\n",
    "            cat_features = list(self.clean_schema[\"categorical_features\"].split(\" \"))\n",
    "            target_column = self.clean_schema[\"target_column\"] \n",
    "            preprocessing= column_transformer(cat_features,num_features)\n",
    "            x_train,x_test = self.train.drop(target_column,axis=1),self.test.drop(target_column,axis=1)\n",
    "            y_train,y_test = self.train[target_column],self.test[target_column]\n",
    "            x_train_arr=preprocessing.fit_transform(x_train)\n",
    "            logger.info(f'Fit_transform x_train')\n",
    "            x_test_arr = preprocessing.transform(x_test)\n",
    "            logger.info(f'Transform x_test')\n",
    "            y_train_arr= np.array(y_train)\n",
    "            y_test_arr= np.array(y_test)\n",
    "            train_arr= np.column_stack([x_train_arr, y_train_arr])\n",
    "            test_arr= np.column_stack([x_test_arr, y_test_arr])\n",
    "            train_arr_filepath=os.path.join(self.config.clean_np_dir, \"train_array.npy\")\n",
    "            test_arr_filepath=os.path.join(self.config.clean_np_dir, \"test_array.npy\")\n",
    "            np.save(train_arr_filepath,train_arr)\n",
    "            np.save(test_arr_filepath,test_arr)\n",
    "            logger.info(f'Saving clean train and test numpy arrays')\n",
    "        except Exception as e:\n",
    "                raise e"
   ]
  },
  {
   "cell_type": "code",
   "execution_count": 10,
   "metadata": {},
   "outputs": [],
   "source": [
    "try:\n",
    "    config = ConfigurationManager()\n",
    "    data_preparation_config = config.get_data_preparation_config()\n",
    "    data_preparation = DataPreparation(config=data_preparation_config)   \n",
    "    data_preparation.null_checks()\n",
    "    data_preparation.clean_education()\n",
    "    data_preparation.clean_marriage()\n",
    "    data_preparation.rename_target()\n",
    "    data_preparation.smote_resampling()\n",
    "    data_preparation.saving_resampled_and_clean_csv()\n",
    "    data_preparation.saving_clean_np_array()\n",
    "\n",
    "\n",
    "except Exception as e:\n",
    "    raise e"
   ]
  },
  {
   "cell_type": "code",
   "execution_count": null,
   "metadata": {},
   "outputs": [],
   "source": []
  }
 ],
 "metadata": {
  "kernelspec": {
   "display_name": "base",
   "language": "python",
   "name": "python3"
  },
  "language_info": {
   "codemirror_mode": {
    "name": "ipython",
    "version": 3
   },
   "file_extension": ".py",
   "mimetype": "text/x-python",
   "name": "python",
   "nbconvert_exporter": "python",
   "pygments_lexer": "ipython3",
   "version": "3.9.13"
  },
  "orig_nbformat": 4,
  "vscode": {
   "interpreter": {
    "hash": "dc07d24e2f18896857f0b2a651fe84ba40ce7b297e58d8804a308c8039f752a6"
   }
  }
 },
 "nbformat": 4,
 "nbformat_minor": 2
}
