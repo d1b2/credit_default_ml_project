{
 "cells": [
  {
   "cell_type": "code",
   "execution_count": 1,
   "metadata": {},
   "outputs": [],
   "source": []
  },
  {
   "cell_type": "code",
   "execution_count": 55,
   "metadata": {},
   "outputs": [],
   "source": [
    "from Credit_Default.utils import *\n",
    "from Credit_Default.constants import *"
   ]
  },
  {
   "cell_type": "code",
   "execution_count": 57,
   "metadata": {},
   "outputs": [],
   "source": [
    "from pathlib import Path"
   ]
  },
  {
   "cell_type": "code",
   "execution_count": 61,
   "metadata": {},
   "outputs": [],
   "source": [
    "SECRETS_FILE_PATH=Path(\"configs/secrets.yaml\")\n",
    "secrets=read_yaml(SECRETS_FILE_PATH)"
   ]
  },
  {
   "cell_type": "code",
   "execution_count": 62,
   "metadata": {},
   "outputs": [
    {
     "data": {
      "text/plain": [
       "'credit_default_ml_project'"
      ]
     },
     "execution_count": 62,
     "metadata": {},
     "output_type": "execute_result"
    }
   ],
   "source": [
    "secrets['DAGSHUB_REPO_NAME']"
   ]
  },
  {
   "cell_type": "code",
   "execution_count": 63,
   "metadata": {},
   "outputs": [
    {
     "data": {
      "text/plain": [
       "'d1b2'"
      ]
     },
     "execution_count": 63,
     "metadata": {},
     "output_type": "execute_result"
    }
   ],
   "source": [
    "secrets['DAGSHUB_USER_NAME']"
   ]
  },
  {
   "cell_type": "code",
   "execution_count": 64,
   "metadata": {},
   "outputs": [],
   "source": [
    "DAGSHUB_REPO_NAME=secrets['DAGSHUB_REPO_NAME']\n",
    "DAGSHUB_USER_NAME=secrets['DAGSHUB_USER_NAME']\n",
    "DAGSHUB_TOKEN=secrets['DAGSHUB_TOKEN']"
   ]
  },
  {
   "cell_type": "code",
   "execution_count": 65,
   "metadata": {},
   "outputs": [],
   "source": [
    "import os\n",
    "\n",
    "#project specifics\n",
    "os.environ['MLFLOW_TRACKING_URI']=f\"https://dagshub.com/{DAGSHUB_USER_NAME}/{DAGSHUB_REPO_NAME}.mlflow\"\n",
    "\n",
    "# Recommended to define as environment variables\n",
    "os.environ['MLFLOW_TRACKING_USERNAME'] = DAGSHUB_USER_NAME\n",
    "os.environ['MLFLOW_TRACKING_PASSWORD'] = DAGSHUB_TOKEN"
   ]
  },
  {
   "cell_type": "code",
   "execution_count": 3,
   "metadata": {},
   "outputs": [
    {
     "name": "stdout",
     "output_type": "stream",
     "text": [
      "Requirement already satisfied: mlflow in c:\\users\\hp\\anaconda3\\envs\\env\\lib\\site-packages (1.30.0)Note: you may need to restart the kernel to use updated packages.\n",
      "\n",
      "Requirement already satisfied: pyyaml<7,>=5.1 in c:\\users\\hp\\anaconda3\\envs\\env\\lib\\site-packages (from mlflow) (6.0)\n",
      "Requirement already satisfied: Flask<3 in c:\\users\\hp\\anaconda3\\envs\\env\\lib\\site-packages (from mlflow) (2.2.2)\n",
      "Requirement already satisfied: docker<7,>=4.0.0 in c:\\users\\hp\\anaconda3\\envs\\env\\lib\\site-packages (from mlflow) (6.0.1)\n",
      "Requirement already satisfied: querystring-parser<2 in c:\\users\\hp\\anaconda3\\envs\\env\\lib\\site-packages (from mlflow) (1.2.4)\n",
      "Requirement already satisfied: sqlparse<1,>=0.4.0 in c:\\users\\hp\\anaconda3\\envs\\env\\lib\\site-packages (from mlflow) (0.4.3)\n",
      "Requirement already satisfied: alembic<2 in c:\\users\\hp\\anaconda3\\envs\\env\\lib\\site-packages (from mlflow) (1.9.4)\n",
      "Requirement already satisfied: packaging<22 in c:\\users\\hp\\anaconda3\\envs\\env\\lib\\site-packages (from mlflow) (21.3)\n",
      "Requirement already satisfied: sqlalchemy<2,>=1.4.0 in c:\\users\\hp\\anaconda3\\envs\\env\\lib\\site-packages (from mlflow) (1.4.46)\n",
      "Requirement already satisfied: gitpython<4,>=2.1.0 in c:\\users\\hp\\anaconda3\\envs\\env\\lib\\site-packages (from mlflow) (3.1.29)\n",
      "Requirement already satisfied: click<9,>=7.0 in c:\\users\\hp\\anaconda3\\envs\\env\\lib\\site-packages (from mlflow) (8.1.3)\n",
      "Requirement already satisfied: numpy<2 in c:\\users\\hp\\anaconda3\\envs\\env\\lib\\site-packages (from mlflow) (1.21.6)\n",
      "Requirement already satisfied: importlib-metadata!=4.7.0,<6,>=3.7.0 in c:\\users\\hp\\anaconda3\\envs\\env\\lib\\site-packages (from mlflow) (4.2.0)\n",
      "Requirement already satisfied: pytz<2023 in c:\\users\\hp\\anaconda3\\envs\\env\\lib\\site-packages (from mlflow) (2022.6)\n",
      "Requirement already satisfied: requests<3,>=2.17.3 in c:\\users\\hp\\anaconda3\\envs\\env\\lib\\site-packages (from mlflow) (2.28.1)\n",
      "Requirement already satisfied: entrypoints<1 in c:\\users\\hp\\anaconda3\\envs\\env\\lib\\site-packages (from mlflow) (0.4)\n",
      "Requirement already satisfied: pandas<2 in c:\\users\\hp\\anaconda3\\envs\\env\\lib\\site-packages (from mlflow) (1.3.5)\n",
      "Requirement already satisfied: scipy<2 in c:\\users\\hp\\anaconda3\\envs\\env\\lib\\site-packages (from mlflow) (1.7.3)\n",
      "Requirement already satisfied: prometheus-flask-exporter<1 in c:\\users\\hp\\anaconda3\\envs\\env\\lib\\site-packages (from mlflow) (0.22.2)\n",
      "Requirement already satisfied: protobuf<5,>=3.12.0 in c:\\users\\hp\\anaconda3\\envs\\env\\lib\\site-packages (from mlflow) (3.20.3)\n",
      "Requirement already satisfied: cloudpickle<3 in c:\\users\\hp\\anaconda3\\envs\\env\\lib\\site-packages (from mlflow) (2.2.1)\n",
      "Requirement already satisfied: databricks-cli<1,>=0.8.7 in c:\\users\\hp\\anaconda3\\envs\\env\\lib\\site-packages (from mlflow) (0.17.4)\n",
      "Requirement already satisfied: waitress<3 in c:\\users\\hp\\anaconda3\\envs\\env\\lib\\site-packages (from mlflow) (2.1.2)\n",
      "Requirement already satisfied: importlib-resources in c:\\users\\hp\\anaconda3\\envs\\env\\lib\\site-packages (from alembic<2->mlflow) (5.10.1)\n",
      "Requirement already satisfied: Mako in c:\\users\\hp\\anaconda3\\envs\\env\\lib\\site-packages (from alembic<2->mlflow) (1.2.4)\n",
      "Requirement already satisfied: colorama in c:\\users\\hp\\anaconda3\\envs\\env\\lib\\site-packages (from click<9,>=7.0->mlflow) (0.4.6)\n",
      "Requirement already satisfied: oauthlib>=3.1.0 in c:\\users\\hp\\anaconda3\\envs\\env\\lib\\site-packages (from databricks-cli<1,>=0.8.7->mlflow) (3.2.2)\n",
      "Requirement already satisfied: six>=1.10.0 in c:\\users\\hp\\anaconda3\\envs\\env\\lib\\site-packages (from databricks-cli<1,>=0.8.7->mlflow) (1.16.0)\n",
      "Requirement already satisfied: pyjwt>=1.7.0 in c:\\users\\hp\\anaconda3\\envs\\env\\lib\\site-packages (from databricks-cli<1,>=0.8.7->mlflow) (2.6.0)\n",
      "Requirement already satisfied: tabulate>=0.7.7 in c:\\users\\hp\\anaconda3\\envs\\env\\lib\\site-packages (from databricks-cli<1,>=0.8.7->mlflow) (0.9.0)\n",
      "Requirement already satisfied: urllib3>=1.26.0 in c:\\users\\hp\\anaconda3\\envs\\env\\lib\\site-packages (from docker<7,>=4.0.0->mlflow) (1.26.13)\n",
      "Requirement already satisfied: websocket-client>=0.32.0 in c:\\users\\hp\\anaconda3\\envs\\env\\lib\\site-packages (from docker<7,>=4.0.0->mlflow) (1.4.2)\n",
      "Requirement already satisfied: pywin32>=304 in c:\\users\\hp\\anaconda3\\envs\\env\\lib\\site-packages (from docker<7,>=4.0.0->mlflow) (305)\n",
      "Requirement already satisfied: Werkzeug>=2.2.2 in c:\\users\\hp\\anaconda3\\envs\\env\\lib\\site-packages (from Flask<3->mlflow) (2.2.2)\n",
      "Requirement already satisfied: Jinja2>=3.0 in c:\\users\\hp\\anaconda3\\envs\\env\\lib\\site-packages (from Flask<3->mlflow) (3.1.2)\n",
      "Requirement already satisfied: itsdangerous>=2.0 in c:\\users\\hp\\anaconda3\\envs\\env\\lib\\site-packages (from Flask<3->mlflow) (2.1.2)\n",
      "Requirement already satisfied: gitdb<5,>=4.0.1 in c:\\users\\hp\\anaconda3\\envs\\env\\lib\\site-packages (from gitpython<4,>=2.1.0->mlflow) (4.0.10)\n",
      "Requirement already satisfied: typing-extensions>=3.7.4.3 in c:\\users\\hp\\anaconda3\\envs\\env\\lib\\site-packages (from gitpython<4,>=2.1.0->mlflow) (4.4.0)\n",
      "Requirement already satisfied: zipp>=0.5 in c:\\users\\hp\\anaconda3\\envs\\env\\lib\\site-packages (from importlib-metadata!=4.7.0,<6,>=3.7.0->mlflow) (3.11.0)\n",
      "Requirement already satisfied: pyparsing!=3.0.5,>=2.0.2 in c:\\users\\hp\\anaconda3\\envs\\env\\lib\\site-packages (from packaging<22->mlflow) (3.0.9)\n",
      "Requirement already satisfied: python-dateutil>=2.7.3 in c:\\users\\hp\\anaconda3\\envs\\env\\lib\\site-packages (from pandas<2->mlflow) (2.8.2)\n",
      "Requirement already satisfied: prometheus-client in c:\\users\\hp\\anaconda3\\envs\\env\\lib\\site-packages (from prometheus-flask-exporter<1->mlflow) (0.15.0)\n",
      "Requirement already satisfied: certifi>=2017.4.17 in c:\\users\\hp\\anaconda3\\envs\\env\\lib\\site-packages (from requests<3,>=2.17.3->mlflow) (2022.9.24)\n",
      "Requirement already satisfied: idna<4,>=2.5 in c:\\users\\hp\\anaconda3\\envs\\env\\lib\\site-packages (from requests<3,>=2.17.3->mlflow) (3.4)\n",
      "Requirement already satisfied: charset-normalizer<3,>=2 in c:\\users\\hp\\anaconda3\\envs\\env\\lib\\site-packages (from requests<3,>=2.17.3->mlflow) (2.1.1)\n",
      "Requirement already satisfied: greenlet!=0.4.17 in c:\\users\\hp\\anaconda3\\envs\\env\\lib\\site-packages (from sqlalchemy<2,>=1.4.0->mlflow) (2.0.2)\n",
      "Requirement already satisfied: smmap<6,>=3.0.1 in c:\\users\\hp\\anaconda3\\envs\\env\\lib\\site-packages (from gitdb<5,>=4.0.1->gitpython<4,>=2.1.0->mlflow) (5.0.0)\n",
      "Requirement already satisfied: MarkupSafe>=2.0 in c:\\users\\hp\\anaconda3\\envs\\env\\lib\\site-packages (from Jinja2>=3.0->Flask<3->mlflow) (2.1.1)\n"
     ]
    }
   ],
   "source": [
    "pip install mlflow"
   ]
  },
  {
   "cell_type": "code",
   "execution_count": 4,
   "metadata": {},
   "outputs": [
    {
     "name": "stdout",
     "output_type": "stream",
     "text": [
      "1\n"
     ]
    }
   ],
   "source": [
    "import mlflow\n",
    "import os\n",
    "\n",
    "mlflow.set_tracking_uri(os.getenv(\"MLFLOW_TRACKING_URI\"))\n",
    "\n",
    "def get_experiment_id(name):\n",
    "    exp = mlflow.get_experiment_by_name(name)\n",
    "    if exp is None:\n",
    "      exp_id = mlflow.create_experiment(name)\n",
    "      return exp_id\n",
    "    return exp.experiment_id\n",
    "\n",
    "print(get_experiment_id(\"credit_default\"))"
   ]
  },
  {
   "cell_type": "code",
   "execution_count": 5,
   "metadata": {},
   "outputs": [],
   "source": [
    "import pandas as pd\n",
    "import numpy as np\n",
    "from sklearn.linear_model import LogisticRegression\n",
    "from sklearn.ensemble import RandomForestClassifier\n",
    "from sklearn.neighbors import KNeighborsClassifier\n",
    "from sklearn.metrics import roc_auc_score,accuracy_score\n",
    "import mlflow.sklearn"
   ]
  },
  {
   "cell_type": "code",
   "execution_count": 7,
   "metadata": {},
   "outputs": [],
   "source": [
    "os.chdir(\"../\")"
   ]
  },
  {
   "cell_type": "code",
   "execution_count": 8,
   "metadata": {},
   "outputs": [
    {
     "data": {
      "text/plain": [
       "'d:\\\\projects\\\\credit_default_ml_project'"
      ]
     },
     "execution_count": 8,
     "metadata": {},
     "output_type": "execute_result"
    }
   ],
   "source": [
    "pwd"
   ]
  },
  {
   "cell_type": "code",
   "execution_count": 15,
   "metadata": {},
   "outputs": [],
   "source": [
    "from Credit_Default.constants import *"
   ]
  },
  {
   "cell_type": "code",
   "execution_count": 19,
   "metadata": {},
   "outputs": [],
   "source": [
    "from Credit_Default.utils import *"
   ]
  },
  {
   "cell_type": "code",
   "execution_count": 16,
   "metadata": {},
   "outputs": [],
   "source": [
    "train_array = np.load(TRAIN_ARRAY_FILE_PATH)\n",
    "test_array = np.load(TEST_ARRAY_FILE_PATH)"
   ]
  },
  {
   "cell_type": "code",
   "execution_count": 17,
   "metadata": {},
   "outputs": [
    {
     "data": {
      "text/plain": [
       "array([ 1.        ,  0.        ,  1.        ,  0.        ,  0.        ,\n",
       "        0.        ,  0.        ,  0.        ,  0.        ,  0.        ,\n",
       "        0.        ,  0.        ,  0.        ,  0.        ,  0.        ,\n",
       "        0.        ,  0.        ,  0.        ,  0.        ,  0.        ,\n",
       "        0.        ,  0.        ,  0.        ,  0.        ,  0.        ,\n",
       "        0.        ,  0.        ,  0.        ,  0.        ,  0.        ,\n",
       "        0.        ,  0.        ,  0.        ,  0.        ,  0.        ,\n",
       "        0.        ,  0.        ,  0.        ,  0.        ,  0.        ,\n",
       "        0.        ,  0.        ,  0.        ,  0.        ,  0.        ,\n",
       "        0.        ,  0.        ,  0.        ,  0.        ,  0.        ,\n",
       "        0.        ,  0.        ,  0.        ,  0.        ,  0.        ,\n",
       "        0.        ,  0.        ,  0.        ,  0.        ,  0.        ,\n",
       "       -0.81969608, -0.37476195, -0.69095971, -0.68175516, -0.67512363,\n",
       "       -0.66579058, -0.6578738 , -0.33806214, -0.25251802, -0.28492099,\n",
       "       -0.30588356, -0.30077358, -0.28353239,  0.        ])"
      ]
     },
     "execution_count": 17,
     "metadata": {},
     "output_type": "execute_result"
    }
   ],
   "source": [
    "train_array[0]"
   ]
  },
  {
   "cell_type": "code",
   "execution_count": 18,
   "metadata": {},
   "outputs": [],
   "source": [
    "x_train,y_train,x_test,y_test = train_array[:,:-1],train_array[:,-1],test_array[:,:-1],test_array[:,-1]"
   ]
  },
  {
   "cell_type": "code",
   "execution_count": 38,
   "metadata": {},
   "outputs": [],
   "source": [
    "import time"
   ]
  },
  {
   "cell_type": "code",
   "execution_count": 25,
   "metadata": {},
   "outputs": [
    {
     "name": "stdout",
     "output_type": "stream",
     "text": [
      "2\n"
     ]
    }
   ],
   "source": [
    "def get_experiment_id(name):\n",
    "    exp = mlflow.get_experiment_by_name(name)\n",
    "    if exp is None:\n",
    "      exp_id = mlflow.create_experiment(name)\n",
    "      return exp_id\n",
    "    return exp.experiment_id\n",
    "\n",
    "print(get_experiment_id(\"credit_default_lr\"))"
   ]
  },
  {
   "cell_type": "code",
   "execution_count": 27,
   "metadata": {},
   "outputs": [],
   "source": [
    "with mlflow.start_run(experiment_id=2):\n",
    "    model=KNeighborsClassifier(n_neighbors=3)\n",
    "    model.fit(x_train,y_train)   \n",
    "    accuracy=round(accuracy_score(y_test, model.predict(x_test)),2)\n",
    "    auc=round(roc_auc_score(y_test, model.predict_proba(x_test)[:, 1]),2)\n",
    "    err=round(mean_squared_error(y_test, model.predict(x_test)),2)\n",
    "    mlflow.log_params(\n",
    "        {\"n_neighbors\":3,\n",
    "         \"model\":\"KNeighborsClassifier\"})\n",
    "    mlflow.log_metrics(\n",
    "    {\n",
    "        \"accuracy\": accuracy,\n",
    "        \"roc_auc_score\":auc,\n",
    "        \"error\": err,\n",
    "    })"
   ]
  },
  {
   "cell_type": "code",
   "execution_count": 28,
   "metadata": {},
   "outputs": [
    {
     "name": "stdout",
     "output_type": "stream",
     "text": [
      "3\n"
     ]
    }
   ],
   "source": [
    "def get_experiment_id(name):\n",
    "    exp = mlflow.get_experiment_by_name(name)\n",
    "    if exp is None:\n",
    "      exp_id = mlflow.create_experiment(name)\n",
    "      return exp_id\n",
    "    return exp.experiment_id\n",
    "\n",
    "print(get_experiment_id(\"credit_default_knn5\"))"
   ]
  },
  {
   "cell_type": "code",
   "execution_count": 29,
   "metadata": {},
   "outputs": [],
   "source": [
    "with mlflow.start_run(experiment_id=3):\n",
    "    model=KNeighborsClassifier(n_neighbors=5)\n",
    "    model.fit(x_train,y_train)   \n",
    "    accuracy=round(accuracy_score(y_test, model.predict(x_test)),2)\n",
    "    auc=round(roc_auc_score(y_test, model.predict_proba(x_test)[:, 1]),2)\n",
    "    err=round(mean_squared_error(y_test, model.predict(x_test)),2)\n",
    "    mlflow.log_params(\n",
    "        {\"n_neighbors\":5,\n",
    "         \"model\":\"KNeighborsClassifier\"})\n",
    "    mlflow.log_metrics(\n",
    "    {\n",
    "        \"accuracy\": accuracy,\n",
    "        \"roc_auc_score\":auc,\n",
    "        \"error\": err,\n",
    "    })"
   ]
  },
  {
   "cell_type": "code",
   "execution_count": 30,
   "metadata": {},
   "outputs": [
    {
     "name": "stdout",
     "output_type": "stream",
     "text": [
      "4\n"
     ]
    }
   ],
   "source": [
    "def get_experiment_id(name):\n",
    "    exp = mlflow.get_experiment_by_name(name)\n",
    "    if exp is None:\n",
    "      exp_id = mlflow.create_experiment(name)\n",
    "      return exp_id\n",
    "    return exp.experiment_id\n",
    "\n",
    "print(get_experiment_id(\"credit_default_knn7\"))"
   ]
  },
  {
   "cell_type": "code",
   "execution_count": 31,
   "metadata": {},
   "outputs": [],
   "source": [
    "with mlflow.start_run(experiment_id=4):\n",
    "    model=KNeighborsClassifier(n_neighbors=7)\n",
    "    model.fit(x_train,y_train)   \n",
    "    accuracy=round(accuracy_score(y_test, model.predict(x_test)),2)\n",
    "    auc=round(roc_auc_score(y_test, model.predict_proba(x_test)[:, 1]),2)\n",
    "    err=round(mean_squared_error(y_test, model.predict(x_test)),2)\n",
    "    mlflow.log_params(\n",
    "        {\"n_neighbors\":7,\n",
    "         \"model\":\"KNeighborsClassifier\"})\n",
    "    mlflow.log_metrics(\n",
    "    {\n",
    "        \"accuracy\": accuracy,\n",
    "        \"roc_auc_score\":auc,\n",
    "        \"error\": err,\n",
    "    })"
   ]
  },
  {
   "cell_type": "code",
   "execution_count": 42,
   "metadata": {},
   "outputs": [
    {
     "name": "stdout",
     "output_type": "stream",
     "text": [
      "5\n"
     ]
    }
   ],
   "source": [
    "def get_experiment_id(name):\n",
    "    exp = mlflow.get_experiment_by_name(name)\n",
    "    if exp is None:\n",
    "      exp_id = mlflow.create_experiment(name)\n",
    "      return exp_id\n",
    "    return exp.experiment_id\n",
    "\n",
    "print(get_experiment_id(\"credit_default_rfc\"))"
   ]
  },
  {
   "cell_type": "code",
   "execution_count": 33,
   "metadata": {},
   "outputs": [],
   "source": [
    "with mlflow.start_run(experiment_id=4):\n",
    "    model=RandomForestClassifier(random_state=10)\n",
    "    model.fit(x_train,y_train)   \n",
    "    accuracy=round(accuracy_score(y_test, model.predict(x_test)),2)\n",
    "    auc=round(roc_auc_score(y_test, model.predict_proba(x_test)[:, 1]),2)\n",
    "    err=round(mean_squared_error(y_test, model.predict(x_test)),2)\n",
    "    mlflow.log_params(\n",
    "        {\"random_state\":10,\n",
    "         \"model\":\"RandomForestClassifier\"})\n",
    "    mlflow.log_metrics(\n",
    "    {\n",
    "        \"accuracy\": accuracy,\n",
    "        \"roc_auc_score\":auc,\n",
    "        \"error\": err,\n",
    "    })"
   ]
  },
  {
   "cell_type": "code",
   "execution_count": null,
   "metadata": {},
   "outputs": [],
   "source": []
  },
  {
   "cell_type": "code",
   "execution_count": 34,
   "metadata": {},
   "outputs": [],
   "source": [
    "with mlflow.start_run(experiment_id=4):\n",
    "    model=RandomForestClassifier(random_state=10,criterion='entropy')\n",
    "    model.fit(x_train,y_train)   \n",
    "    accuracy=round(accuracy_score(y_test, model.predict(x_test)),2)\n",
    "    auc=round(roc_auc_score(y_test, model.predict_proba(x_test)[:, 1]),2)\n",
    "    err=round(mean_squared_error(y_test, model.predict(x_test)),2)\n",
    "    mlflow.log_params(\n",
    "        {\"random_state\":10,\n",
    "         \"criterion\" : 'entropy',\n",
    "         \"model\":\"RandomForestClassifier\"})\n",
    "    mlflow.log_metrics(\n",
    "    {\n",
    "        \"accuracy\": accuracy,\n",
    "        \"roc_auc_score\":auc,\n",
    "        \"error\": err,\n",
    "    })"
   ]
  },
  {
   "cell_type": "code",
   "execution_count": 35,
   "metadata": {},
   "outputs": [],
   "source": [
    "with mlflow.start_run(experiment_id=4):\n",
    "    model=RandomForestClassifier(random_state=10,criterion='gini')\n",
    "    model.fit(x_train,y_train)   \n",
    "    accuracy=round(accuracy_score(y_test, model.predict(x_test)),2)\n",
    "    auc=round(roc_auc_score(y_test, model.predict_proba(x_test)[:, 1]),2)\n",
    "    err=round(mean_squared_error(y_test, model.predict(x_test)),2)\n",
    "    mlflow.log_params(\n",
    "        {\"random_state\":10,\n",
    "         \"criterion\" : 'gini',\n",
    "         \"model\":\"RandomForestClassifier\"})\n",
    "    mlflow.log_metrics(\n",
    "    {\n",
    "        \"accuracy\": accuracy,\n",
    "        \"roc_auc_score\":auc,\n",
    "        \"error\": err,\n",
    "    })"
   ]
  },
  {
   "cell_type": "code",
   "execution_count": 36,
   "metadata": {},
   "outputs": [],
   "source": [
    "with mlflow.start_run(experiment_id=4):\n",
    "    model=RandomForestClassifier(random_state=20,criterion='gini')\n",
    "    model.fit(x_train,y_train)   \n",
    "    accuracy=round(accuracy_score(y_test, model.predict(x_test)),2)\n",
    "    auc=round(roc_auc_score(y_test, model.predict_proba(x_test)[:, 1]),2)\n",
    "    err=round(mean_squared_error(y_test, model.predict(x_test)),2)\n",
    "    mlflow.log_params(\n",
    "        {\"random_state\":20,\n",
    "         \"criterion\" : 'gini',\n",
    "         \"model\":\"RandomForestClassifier\"})\n",
    "    mlflow.log_metrics(\n",
    "    {\n",
    "        \"accuracy\": accuracy,\n",
    "        \"roc_auc_score\":auc,\n",
    "        \"error\": err,\n",
    "    })"
   ]
  },
  {
   "cell_type": "code",
   "execution_count": 39,
   "metadata": {},
   "outputs": [],
   "source": [
    "with mlflow.start_run(experiment_id=4):\n",
    "    model=RandomForestClassifier(random_state=20,criterion='gini',max_depth=2)\n",
    "    train_start = time.time()\n",
    "    model.fit(x_train,y_train) \n",
    "    train_end = time.time()\n",
    "    eval_time_train = round(train_end-train_start,4)\n",
    "    predict_start=  time.time()\n",
    "    model.predict(x_test)\n",
    "    predict_end=  time.time()\n",
    "    eval_time_predict = round(predict_end-predict_start,4)\n",
    "\n",
    "    accuracy=round(accuracy_score(y_test, model.predict(x_test)),2)\n",
    "    auc=round(roc_auc_score(y_test, model.predict_proba(x_test)[:, 1]),2)\n",
    "    err=round(mean_squared_error(y_test, model.predict(x_test)),2)\n",
    "    mlflow.log_params(\n",
    "        {\"random_state\":20,\n",
    "         \"criterion\" : 'gini',\n",
    "         \"max_depth\" :2,\n",
    "         \"model\":\"RandomForestClassifier\"})\n",
    "    mlflow.log_metrics(\n",
    "    {\n",
    "        \"accuracy\": accuracy,\n",
    "        \"roc_auc_score\":auc,\n",
    "        \"error\": err,\n",
    "        \"train_time\": eval_time_train,\n",
    "        \"predict_time\": eval_time_predict\n",
    "    })"
   ]
  },
  {
   "cell_type": "code",
   "execution_count": 44,
   "metadata": {},
   "outputs": [],
   "source": [
    "with mlflow.start_run(experiment_id=5):\n",
    "    model=RandomForestClassifier(random_state=10,criterion='gini',max_depth=10)\n",
    "    train_start = time.time()\n",
    "    model.fit(x_train,y_train) \n",
    "    train_end = time.time()\n",
    "    eval_time_train = round(train_end-train_start,4)\n",
    "    predict_start=  time.time()\n",
    "    model.predict(x_test)\n",
    "    predict_end=  time.time()\n",
    "    eval_time_predict = round(predict_end-predict_start,4)\n",
    "\n",
    "    accuracy=round(accuracy_score(y_test, model.predict(x_test)),2)\n",
    "    auc=round(roc_auc_score(y_test, model.predict_proba(x_test)[:, 1]),2)\n",
    "    err=round(mean_squared_error(y_test, model.predict(x_test)),2)\n",
    "    mlflow.log_params(\n",
    "        {\"random_state\":20,\n",
    "         \"criterion\" : 'gini',\n",
    "         \"max_depth\" :10,\n",
    "         \"model\":\"RandomForestClassifier\"})\n",
    "    mlflow.log_metrics(\n",
    "    {\n",
    "        \"accuracy\": accuracy,\n",
    "        \"roc_auc_score\":auc,\n",
    "        \"error\": err,\n",
    "        \"train_time\": eval_time_train,\n",
    "        \"predict_time\": eval_time_predict\n",
    "    })"
   ]
  },
  {
   "cell_type": "code",
   "execution_count": 45,
   "metadata": {},
   "outputs": [],
   "source": [
    "with mlflow.start_run(experiment_id=5):\n",
    "    model=RandomForestClassifier(random_state=10,criterion='gini',max_depth=15)\n",
    "    train_start = time.time()\n",
    "    model.fit(x_train,y_train) \n",
    "    train_end = time.time()\n",
    "    eval_time_train = round(train_end-train_start,4)\n",
    "    predict_start=  time.time()\n",
    "    model.predict(x_test)\n",
    "    predict_end=  time.time()\n",
    "    eval_time_predict = round(predict_end-predict_start,4)\n",
    "\n",
    "    accuracy=round(accuracy_score(y_test, model.predict(x_test)),2)\n",
    "    auc=round(roc_auc_score(y_test, model.predict_proba(x_test)[:, 1]),2)\n",
    "    err=round(mean_squared_error(y_test, model.predict(x_test)),2)\n",
    "    mlflow.log_params(\n",
    "        {\"random_state\":20,\n",
    "         \"criterion\" : 'gini',\n",
    "         \"max_depth\" :15,\n",
    "         \"model\":\"RandomForestClassifier\"})\n",
    "    mlflow.log_metrics(\n",
    "    {\n",
    "        \"accuracy\": accuracy,\n",
    "        \"roc_auc_score\":auc,\n",
    "        \"error\": err,\n",
    "        \"train_time\": eval_time_train,\n",
    "        \"predict_time\": eval_time_predict\n",
    "    })"
   ]
  },
  {
   "cell_type": "code",
   "execution_count": 46,
   "metadata": {},
   "outputs": [],
   "source": [
    "with mlflow.start_run(experiment_id=5):\n",
    "    model=RandomForestClassifier(random_state=10,criterion='gini',max_depth=18)\n",
    "    train_start = time.time()\n",
    "    model.fit(x_train,y_train) \n",
    "    train_end = time.time()\n",
    "    eval_time_train = round(train_end-train_start,4)\n",
    "    predict_start=  time.time()\n",
    "    model.predict(x_test)\n",
    "    predict_end=  time.time()\n",
    "    eval_time_predict = round(predict_end-predict_start,4)\n",
    "\n",
    "    accuracy=round(accuracy_score(y_test, model.predict(x_test)),2)\n",
    "    auc=round(roc_auc_score(y_test, model.predict_proba(x_test)[:, 1]),2)\n",
    "    err=round(mean_squared_error(y_test, model.predict(x_test)),2)\n",
    "    mlflow.log_params(\n",
    "        {\"random_state\":20,\n",
    "         \"criterion\" : 'gini',\n",
    "         \"max_depth\" :18,\n",
    "         \"model\":\"RandomForestClassifier\"})\n",
    "    mlflow.log_metrics(\n",
    "    {\n",
    "        \"accuracy\": accuracy,\n",
    "        \"roc_auc_score\":auc,\n",
    "        \"error\": err,\n",
    "        \"train_time\": eval_time_train,\n",
    "        \"predict_time\": eval_time_predict\n",
    "    })"
   ]
  },
  {
   "cell_type": "code",
   "execution_count": 47,
   "metadata": {},
   "outputs": [
    {
     "name": "stdout",
     "output_type": "stream",
     "text": [
      "6\n"
     ]
    }
   ],
   "source": [
    "def get_experiment_id(name):\n",
    "    exp = mlflow.get_experiment_by_name(name)\n",
    "    if exp is None:\n",
    "      exp_id = mlflow.create_experiment(name)\n",
    "      return exp_id\n",
    "    return exp.experiment_id\n",
    "\n",
    "print(get_experiment_id(\"credit_default_rfc1\"))"
   ]
  },
  {
   "cell_type": "code",
   "execution_count": 48,
   "metadata": {},
   "outputs": [],
   "source": [
    "with mlflow.start_run(experiment_id=6):\n",
    "    model=RandomForestClassifier(random_state=10,criterion='gini',max_depth=18,n_estimators=5)\n",
    "    train_start = time.time()\n",
    "    model.fit(x_train,y_train) \n",
    "    train_end = time.time()\n",
    "    eval_time_train = round(train_end-train_start,4)\n",
    "    predict_start=  time.time()\n",
    "    model.predict(x_test)\n",
    "    predict_end=  time.time()\n",
    "    eval_time_predict = round(predict_end-predict_start,4)\n",
    "\n",
    "    accuracy=round(accuracy_score(y_test, model.predict(x_test)),2)\n",
    "    auc=round(roc_auc_score(y_test, model.predict_proba(x_test)[:, 1]),2)\n",
    "    err=round(mean_squared_error(y_test, model.predict(x_test)),2)\n",
    "    mlflow.log_params(\n",
    "        {\"random_state\":20,\n",
    "         \"criterion\" : 'gini',\n",
    "         \"max_depth\" :18,\n",
    "         \"n_estimators\" :5,\n",
    "         \"model\":\"RandomForestClassifier\"})\n",
    "    mlflow.log_metrics(\n",
    "    {\n",
    "        \"accuracy\": accuracy,\n",
    "        \"roc_auc_score\":auc,\n",
    "        \"error\": err,\n",
    "        \"train_time\": eval_time_train,\n",
    "        \"predict_time\": eval_time_predict\n",
    "    })"
   ]
  },
  {
   "cell_type": "code",
   "execution_count": 49,
   "metadata": {},
   "outputs": [],
   "source": [
    "with mlflow.start_run(experiment_id=6):\n",
    "    model=RandomForestClassifier(random_state=10,criterion='gini',max_depth=18,n_estimators=10)\n",
    "    train_start = time.time()\n",
    "    model.fit(x_train,y_train) \n",
    "    train_end = time.time()\n",
    "    eval_time_train = round(train_end-train_start,4)\n",
    "    predict_start=  time.time()\n",
    "    model.predict(x_test)\n",
    "    predict_end=  time.time()\n",
    "    eval_time_predict = round(predict_end-predict_start,4)\n",
    "\n",
    "    accuracy=round(accuracy_score(y_test, model.predict(x_test)),2)\n",
    "    auc=round(roc_auc_score(y_test, model.predict_proba(x_test)[:, 1]),2)\n",
    "    err=round(mean_squared_error(y_test, model.predict(x_test)),2)\n",
    "    mlflow.log_params(\n",
    "        {\"random_state\":20,\n",
    "         \"criterion\" : 'gini',\n",
    "         \"max_depth\" :18,\n",
    "         \"n_estimators\" :10,\n",
    "         \"model\":\"RandomForestClassifier\"})\n",
    "    mlflow.log_metrics(\n",
    "    {\n",
    "        \"accuracy\": accuracy,\n",
    "        \"roc_auc_score\":auc,\n",
    "        \"error\": err,\n",
    "        \"train_time\": eval_time_train,\n",
    "        \"predict_time\": eval_time_predict\n",
    "    })"
   ]
  },
  {
   "cell_type": "code",
   "execution_count": 50,
   "metadata": {},
   "outputs": [],
   "source": [
    "with mlflow.start_run(experiment_id=6):\n",
    "    model=RandomForestClassifier(random_state=10,criterion='gini',max_depth=18,n_estimators=50)\n",
    "    train_start = time.time()\n",
    "    model.fit(x_train,y_train) \n",
    "    train_end = time.time()\n",
    "    eval_time_train = round(train_end-train_start,4)\n",
    "    predict_start=  time.time()\n",
    "    model.predict(x_test)\n",
    "    predict_end=  time.time()\n",
    "    eval_time_predict = round(predict_end-predict_start,4)\n",
    "\n",
    "    accuracy=round(accuracy_score(y_test, model.predict(x_test)),2)\n",
    "    auc=round(roc_auc_score(y_test, model.predict_proba(x_test)[:, 1]),2)\n",
    "    err=round(mean_squared_error(y_test, model.predict(x_test)),2)\n",
    "    mlflow.log_params(\n",
    "        {\"random_state\":20,\n",
    "         \"criterion\" : 'gini',\n",
    "         \"max_depth\" :18,\n",
    "         \"n_estimators\" :50,\n",
    "         \"model\":\"RandomForestClassifier\"})\n",
    "    mlflow.log_metrics(\n",
    "    {\n",
    "        \"accuracy\": accuracy,\n",
    "        \"roc_auc_score\":auc,\n",
    "        \"error\": err,\n",
    "        \"train_time\": eval_time_train,\n",
    "        \"predict_time\": eval_time_predict\n",
    "    })"
   ]
  },
  {
   "cell_type": "code",
   "execution_count": 51,
   "metadata": {},
   "outputs": [],
   "source": [
    "with mlflow.start_run(experiment_id=6):\n",
    "    model=RandomForestClassifier(random_state=10,criterion='gini',max_depth=18,n_estimators=120)\n",
    "    train_start = time.time()\n",
    "    model.fit(x_train,y_train) \n",
    "    train_end = time.time()\n",
    "    eval_time_train = round(train_end-train_start,4)\n",
    "    predict_start=  time.time()\n",
    "    model.predict(x_test)\n",
    "    predict_end=  time.time()\n",
    "    eval_time_predict = round(predict_end-predict_start,4)\n",
    "\n",
    "    accuracy=round(accuracy_score(y_test, model.predict(x_test)),2)\n",
    "    auc=round(roc_auc_score(y_test, model.predict_proba(x_test)[:, 1]),2)\n",
    "    err=round(mean_squared_error(y_test, model.predict(x_test)),2)\n",
    "    mlflow.log_params(\n",
    "        {\"random_state\":20,\n",
    "         \"criterion\" : 'gini',\n",
    "         \"max_depth\" :18,\n",
    "         \"n_estimators\" :120,\n",
    "         \"model\":\"RandomForestClassifier\"})\n",
    "    mlflow.log_metrics(\n",
    "    {\n",
    "        \"accuracy\": accuracy,\n",
    "        \"roc_auc_score\":auc,\n",
    "        \"error\": err,\n",
    "        \"train_time\": eval_time_train,\n",
    "        \"predict_time\": eval_time_predict\n",
    "    })"
   ]
  },
  {
   "cell_type": "code",
   "execution_count": null,
   "metadata": {},
   "outputs": [],
   "source": []
  }
 ],
 "metadata": {
  "kernelspec": {
   "display_name": "env",
   "language": "python",
   "name": "python3"
  },
  "language_info": {
   "codemirror_mode": {
    "name": "ipython",
    "version": 3
   },
   "file_extension": ".py",
   "mimetype": "text/x-python",
   "name": "python",
   "nbconvert_exporter": "python",
   "pygments_lexer": "ipython3",
   "version": "3.7.15"
  },
  "orig_nbformat": 4,
  "vscode": {
   "interpreter": {
    "hash": "1eb19c7488d4f262080b13f899a471b636f830013e8a07473a1535e6a053aee4"
   }
  }
 },
 "nbformat": 4,
 "nbformat_minor": 2
}
