{
 "cells": [
  {
   "cell_type": "code",
   "execution_count": 1,
   "metadata": {},
   "outputs": [
    {
     "name": "stdout",
     "output_type": "stream",
     "text": [
      "Requirement already satisfied: sklearn in c:\\users\\hp\\anaconda3\\lib\\site-packages (0.0.post1)\n"
     ]
    }
   ],
   "source": [
    "!pip install sklearn"
   ]
  },
  {
   "cell_type": "code",
   "execution_count": 2,
   "metadata": {},
   "outputs": [
    {
     "ename": "ModuleNotFoundError",
     "evalue": "No module named 'sklearn'",
     "output_type": "error",
     "traceback": [
      "\u001b[1;31m---------------------------------------------------------------------------\u001b[0m",
      "\u001b[1;31mModuleNotFoundError\u001b[0m                       Traceback (most recent call last)",
      "Cell \u001b[1;32mIn[2], line 3\u001b[0m\n\u001b[0;32m      1\u001b[0m \u001b[39mfrom\u001b[39;00m \u001b[39mcollections\u001b[39;00m \u001b[39mimport\u001b[39;00m namedtuple\n\u001b[0;32m      2\u001b[0m \u001b[39mimport\u001b[39;00m \u001b[39mos\u001b[39;00m\n\u001b[1;32m----> 3\u001b[0m \u001b[39mfrom\u001b[39;00m \u001b[39msklearn\u001b[39;00m\u001b[39m.\u001b[39;00m\u001b[39mmodel_selection\u001b[39;00m \u001b[39mimport\u001b[39;00m StratifiedShuffleSplit\n\u001b[0;32m      4\u001b[0m os\u001b[39m.\u001b[39mchdir(\u001b[39m\"\u001b[39m\u001b[39m../\u001b[39m\u001b[39m\"\u001b[39m)\n",
      "\u001b[1;31mModuleNotFoundError\u001b[0m: No module named 'sklearn'"
     ]
    }
   ],
   "source": [
    "from collections import namedtuple\n",
    "import os\n",
    "from sklearn.model_selection import StratifiedShuffleSplit\n",
    "os.chdir(\"../\")"
   ]
  },
  {
   "cell_type": "code",
   "execution_count": null,
   "metadata": {},
   "outputs": [
    {
     "data": {
      "text/plain": [
       "'d:\\\\projects\\\\credit_default_ml_project'"
      ]
     },
     "execution_count": 2,
     "metadata": {},
     "output_type": "execute_result"
    }
   ],
   "source": [
    "pwd"
   ]
  },
  {
   "cell_type": "code",
   "execution_count": null,
   "metadata": {},
   "outputs": [],
   "source": [
    "DataIngestionConfig = namedtuple(\"DataIngestionConfig\", [\n",
    "    \"root_dir\",\n",
    "    \"source_URL\",\n",
    "    \"raw_data_dir\",\n",
    "    \"local_data_file\",\n",
    "    \"kaggle_file_path\",\n",
    "    \"unzip_dir\",\n",
    "    \"ingested_train_dir\",\n",
    "    \"ingested_test_dir\"\n",
    "])"
   ]
  },
  {
   "cell_type": "code",
   "execution_count": null,
   "metadata": {},
   "outputs": [],
   "source": [
    "from dataclasses import dataclass\n",
    "from pathlib import Path\n",
    "\n",
    "\n",
    "@dataclass(frozen=True)\n",
    "class DataIngestionConfig:\n",
    "    root_dir: Path\n",
    "    source_URL: str\n",
    "    raw_data_dir: Path\n",
    "    local_data_file: Path\n",
    "    kaggle_file_path: Path\n",
    "    unzip_dir: Path\n",
    "    ingested_train_dir: Path\n",
    "    ingested_test_dir: Path"
   ]
  },
  {
   "cell_type": "code",
   "execution_count": null,
   "metadata": {},
   "outputs": [],
   "source": [
    "from Credit_Default.constants import *\n",
    "from Credit_Default.utils import *"
   ]
  },
  {
   "cell_type": "code",
   "execution_count": null,
   "metadata": {},
   "outputs": [],
   "source": [
    "class ConfigurationManager:\n",
    "    def __init__(\n",
    "        self, \n",
    "        config_filepath = CONFIG_FILE_PATH,\n",
    "        params_filepath = PARAMS_FILE_PATH):\n",
    "        self.config = read_yaml(config_filepath)\n",
    "        self.params = read_yaml(params_filepath)\n",
    "        create_directories([self.config.artifacts_root])\n",
    "\n",
    "    def get_data_ingestion_config(self) -> DataIngestionConfig:\n",
    "        config = self.config.data_ingestion\n",
    "        \n",
    "        create_directories([config.root_dir,\n",
    "                            config.raw_data_dir,\n",
    "                            config.unzip_dir,\n",
    "                            config.ingested_train_dir,\n",
    "                            config.ingested_test_dir])\n",
    "\n",
    "        data_ingestion_config = DataIngestionConfig(\n",
    "            root_dir=config.root_dir,\n",
    "            source_URL=config.source_URL,\n",
    "            raw_data_dir=config.raw_data_dir,\n",
    "            local_data_file=config.local_data_file,\n",
    "            kaggle_file_path=config.kaggle_file_path,\n",
    "            unzip_dir=config.unzip_dir,\n",
    "            ingested_train_dir=config.ingested_train_dir,\n",
    "            ingested_test_dir=config.ingested_test_dir\n",
    "        )\n",
    "\n",
    "        return data_ingestion_config"
   ]
  },
  {
   "cell_type": "code",
   "execution_count": null,
   "metadata": {},
   "outputs": [
    {
     "ename": "ModuleNotFoundError",
     "evalue": "No module named 'sklearn'",
     "output_type": "error",
     "traceback": [
      "\u001b[1;31m---------------------------------------------------------------------------\u001b[0m",
      "\u001b[1;31mModuleNotFoundError\u001b[0m                       Traceback (most recent call last)",
      "Cell \u001b[1;32mIn[11], line 7\u001b[0m\n\u001b[0;32m      5\u001b[0m \u001b[39mfrom\u001b[39;00m \u001b[39mkaggle\u001b[39;00m\u001b[39m.\u001b[39;00m\u001b[39mapi\u001b[39;00m\u001b[39m.\u001b[39;00m\u001b[39mkaggle_api_extended\u001b[39;00m \u001b[39mimport\u001b[39;00m KaggleApi\n\u001b[0;32m      6\u001b[0m \u001b[39mimport\u001b[39;00m \u001b[39mnumpy\u001b[39;00m \u001b[39mas\u001b[39;00m \u001b[39mnp\u001b[39;00m\n\u001b[1;32m----> 7\u001b[0m \u001b[39mfrom\u001b[39;00m \u001b[39msklearn\u001b[39;00m\u001b[39m.\u001b[39;00m\u001b[39mmodel_selection\u001b[39;00m \u001b[39mimport\u001b[39;00m StratifiedShuffleSplit\n\u001b[0;32m      9\u001b[0m \u001b[39mclass\u001b[39;00m \u001b[39mDataIngestion\u001b[39;00m:\n\u001b[0;32m     10\u001b[0m     \u001b[39mdef\u001b[39;00m \u001b[39m__init__\u001b[39m(\u001b[39mself\u001b[39m, config: DataIngestionConfig):\n",
      "\u001b[1;31mModuleNotFoundError\u001b[0m: No module named 'sklearn'"
     ]
    }
   ],
   "source": [
    "import os\n",
    "import urllib.request as request\n",
    "from pathlib import Path\n",
    "from zipfile import ZipFile\n",
    "from kaggle.api.kaggle_api_extended import KaggleApi\n",
    "import numpy as np\n",
    "\n",
    "\n",
    "class DataIngestion:\n",
    "    def __init__(self, config: DataIngestionConfig):\n",
    "        self.config = config\n",
    "    \n",
    "    def load_kaggle(self) :\n",
    "        kaggle=load_json(Path(self.config.kaggle_file_path))\n",
    "        os.environ['KAGGLE_USERNAME']=kaggle.username\n",
    "        os.environ['KAGGLE_KEY']=kaggle.key\n",
    "        url=self.config.source_URL.split('/')\n",
    "        api = KaggleApi()\n",
    "        api.authenticate()\n",
    "        api.dataset_download_file(\"/\".join(url[-3:-1]),url[-1],self.config.raw_data_dir)\n",
    "       \n",
    "\n",
    "    def unzip(self):\n",
    "        with ZipFile(file=self.config.local_data_file, mode=\"r\") as zf:\n",
    "            zf.extractall(self.config.unzip_dir)\n",
    "    \n",
    "    def basic(self):\n",
    "        file_name = os.listdir(self.config.unzip_dir)[0]\n",
    "        df_file_path = os.path.join(self.config.unzip_dir,file_name)\n",
    "        df=pd.read_csv(df_file_path)\n",
    "        min1,max1=df['LIMIT_BAL'].min(),df['LIMIT_BAL'].max()\n",
    "        df['Limit_Bal_cat']=pd.cut(\n",
    "                df[\"LIMIT_BAL\"],\n",
    "                bins=[min1, 0.2*max1, 0.4*max1, 0.6*max1, np.inf],\n",
    "                labels=[1,2,3,4]\n",
    "            )\n",
    "\n",
    "        strat_train_set = None\n",
    "        strat_test_set = None\n",
    "\n",
    "        split = StratifiedShuffleSplit(n_splits=1, test_size=0.2, random_state=42)\n",
    "        for train_index,test_index in split.split(df,df['Limit_Bal_cat']):\n",
    "            strat_train_set = df.loc[train_index].drop(['Limit_Bal_cat'],axis=1)\n",
    "            strat_test_set= df.loc[test_index].drop(['Limit_Bal_cat'],axis=1)\n",
    "\n",
    "        if strat_train_set is not None:\n",
    "            strat_train_set.to_csv(self.config.ingested_train_dir,index=False)\n",
    "        if strat_train_set is not None:\n",
    "            strat_train_set.to_csv(self.config.ingested_train_dir,index=False)\n"
   ]
  },
  {
   "cell_type": "code",
   "execution_count": null,
   "metadata": {},
   "outputs": [],
   "source": [
    "try:\n",
    "    config = ConfigurationManager()\n",
    "    data_ingestion_config = config.get_data_ingestion_config()\n",
    "    data_ingestion = DataIngestion(config=data_ingestion_config)\n",
    "    data_ingestion.load_kaggle()\n",
    "    data_ingestion.unzip()\n",
    "    data_ingestion.basic()\n",
    "\n",
    "except Exception as e:\n",
    "    raise e"
   ]
  },
  {
   "cell_type": "code",
   "execution_count": null,
   "metadata": {},
   "outputs": [],
   "source": []
  }
 ],
 "metadata": {
  "kernelspec": {
   "display_name": "Python 3",
   "language": "python",
   "name": "python3"
  },
  "language_info": {
   "codemirror_mode": {
    "name": "ipython",
    "version": 3
   },
   "file_extension": ".py",
   "mimetype": "text/x-python",
   "name": "python",
   "nbconvert_exporter": "python",
   "pygments_lexer": "ipython3",
   "version": "3.8.15 (default, Nov  4 2022, 15:16:59) [MSC v.1916 64 bit (AMD64)]"
  },
  "orig_nbformat": 4,
  "vscode": {
   "interpreter": {
    "hash": "fbc01d3c87040e99f2cbce173baee509df865b957ace6d6efadbf40ecfb18fdf"
   }
  }
 },
 "nbformat": 4,
 "nbformat_minor": 2
}
